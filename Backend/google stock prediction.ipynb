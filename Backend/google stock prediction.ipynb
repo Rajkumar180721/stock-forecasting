{
 "cells": [
  {
   "cell_type": "code",
   "execution_count": 1,
   "id": "ae24932c",
   "metadata": {},
   "outputs": [],
   "source": [
    "import os\n",
    "os.environ['TF_CPP_MIN_LOG_LEVEL'] = '2'"
   ]
  },
  {
   "cell_type": "code",
   "execution_count": 2,
   "id": "9d2f8660",
   "metadata": {},
   "outputs": [
    {
     "name": "stderr",
     "output_type": "stream",
     "text": [
      "2022-11-07 21:43:49.971736: E tensorflow/stream_executor/cuda/cuda_blas.cc:2981] Unable to register cuBLAS factory: Attempting to register factory for plugin cuBLAS when one has already been registered\n"
     ]
    }
   ],
   "source": [
    "import numpy as np \n",
    "import pandas as pd \n",
    "import matplotlib.pyplot as plt \n",
    "from sklearn.preprocessing import MinMaxScaler\n",
    "from sklearn.model_selection import train_test_split\n",
    "from keras.models import Sequential\n",
    "from keras.layers import Dense,LSTM,Dropout"
   ]
  },
  {
   "cell_type": "code",
   "execution_count": 3,
   "id": "99d92284",
   "metadata": {},
   "outputs": [
    {
     "data": {
      "text/plain": [
       "((3866, 8), (430, 8))"
      ]
     },
     "execution_count": 3,
     "metadata": {},
     "output_type": "execute_result"
    }
   ],
   "source": [
    "data = pd.read_csv('datasets/GoogleStockPrices.csv')\n",
    "data = data.dropna()\n",
    "train, test = train_test_split(data, test_size=0.1, shuffle=False)\n",
    "train.shape, test.shape"
   ]
  },
  {
   "cell_type": "code",
   "execution_count": 4,
   "id": "ae21fd62",
   "metadata": {},
   "outputs": [
    {
     "name": "stdout",
     "output_type": "stream",
     "text": [
      "<class 'pandas.core.frame.DataFrame'>\n",
      "RangeIndex: 4296 entries, 0 to 4295\n",
      "Data columns (total 8 columns):\n",
      " #   Column        Non-Null Count  Dtype  \n",
      "---  ------        --------------  -----  \n",
      " 0   Date          4296 non-null   object \n",
      " 1   Open          4296 non-null   float64\n",
      " 2   High          4296 non-null   float64\n",
      " 3   Low           4296 non-null   float64\n",
      " 4   Close         4296 non-null   float64\n",
      " 5   Volume        4296 non-null   int64  \n",
      " 6   Dividends     4296 non-null   int64  \n",
      " 7   Stock Splits  4296 non-null   float64\n",
      "dtypes: float64(5), int64(2), object(1)\n",
      "memory usage: 268.6+ KB\n"
     ]
    }
   ],
   "source": [
    "data.info()"
   ]
  },
  {
   "cell_type": "code",
   "execution_count": 5,
   "id": "8e4be476",
   "metadata": {},
   "outputs": [
    {
     "data": {
      "text/plain": [
       "(3866, 1)"
      ]
     },
     "execution_count": 5,
     "metadata": {},
     "output_type": "execute_result"
    }
   ],
   "source": [
    "trainData = train.iloc[:,4:5].values\n",
    "sc = MinMaxScaler(feature_range=(0,1))\n",
    "trainData = sc.fit_transform(trainData)\n",
    "trainData.shape"
   ]
  },
  {
   "cell_type": "code",
   "execution_count": 6,
   "id": "1ccc55cc",
   "metadata": {},
   "outputs": [],
   "source": [
    "X_train = []\n",
    "y_train = []\n",
    "\n",
    "for i in range (60,1149): #60 : timestep // 1149 : length of the data\n",
    "    X_train.append(trainData[i-60:i,0]) \n",
    "    y_train.append(trainData[i,0])\n",
    "\n",
    "X_train,y_train = np.array(X_train),np.array(y_train)"
   ]
  },
  {
   "cell_type": "code",
   "execution_count": 7,
   "id": "06d3e308",
   "metadata": {},
   "outputs": [
    {
     "data": {
      "text/plain": [
       "(1089, 60, 1)"
      ]
     },
     "execution_count": 7,
     "metadata": {},
     "output_type": "execute_result"
    }
   ],
   "source": [
    "X_train = np.reshape(X_train,(X_train.shape[0],X_train.shape[1],1)) #adding the batch_size axis\n",
    "X_train.shape"
   ]
  },
  {
   "cell_type": "code",
   "execution_count": 8,
   "id": "d0be8e68",
   "metadata": {},
   "outputs": [],
   "source": [
    "model = Sequential()\n",
    "\n",
    "model.add(LSTM(units=100, return_sequences = True, input_shape =(X_train.shape[1],1)))\n",
    "model.add(Dropout(0.2))\n",
    "\n",
    "model.add(LSTM(units=100, return_sequences = True))\n",
    "model.add(Dropout(0.2))\n",
    "\n",
    "model.add(LSTM(units=100, return_sequences = True))\n",
    "model.add(Dropout(0.2))\n",
    "\n",
    "model.add(LSTM(units=100, return_sequences = False))\n",
    "model.add(Dropout(0.2))\n",
    "\n",
    "model.add(Dense(units =1))\n",
    "model.compile(optimizer='adam',loss=\"mean_squared_error\")"
   ]
  },
  {
   "cell_type": "code",
   "execution_count": 9,
   "id": "f623b72e",
   "metadata": {},
   "outputs": [
    {
     "name": "stdout",
     "output_type": "stream",
     "text": [
      "Epoch 1/20\n",
      "35/35 - 9s - loss: 0.0024 - 9s/epoch - 262ms/step\n",
      "Epoch 2/20\n",
      "35/35 - 4s - loss: 3.4915e-04 - 4s/epoch - 123ms/step\n",
      "Epoch 3/20\n",
      "35/35 - 4s - loss: 2.6795e-04 - 4s/epoch - 128ms/step\n",
      "Epoch 4/20\n",
      "35/35 - 4s - loss: 2.2619e-04 - 4s/epoch - 123ms/step\n",
      "Epoch 5/20\n",
      "35/35 - 4s - loss: 2.6703e-04 - 4s/epoch - 122ms/step\n",
      "Epoch 6/20\n",
      "35/35 - 4s - loss: 2.2069e-04 - 4s/epoch - 128ms/step\n",
      "Epoch 7/20\n",
      "35/35 - 4s - loss: 1.8483e-04 - 4s/epoch - 128ms/step\n",
      "Epoch 8/20\n",
      "35/35 - 4s - loss: 1.8329e-04 - 4s/epoch - 125ms/step\n",
      "Epoch 9/20\n",
      "35/35 - 4s - loss: 2.5467e-04 - 4s/epoch - 123ms/step\n",
      "Epoch 10/20\n",
      "35/35 - 5s - loss: 1.7923e-04 - 5s/epoch - 132ms/step\n",
      "Epoch 11/20\n",
      "35/35 - 4s - loss: 3.9225e-04 - 4s/epoch - 126ms/step\n",
      "Epoch 12/20\n",
      "35/35 - 4s - loss: 1.6306e-04 - 4s/epoch - 125ms/step\n",
      "Epoch 13/20\n",
      "35/35 - 4s - loss: 1.6635e-04 - 4s/epoch - 125ms/step\n",
      "Epoch 14/20\n",
      "35/35 - 4s - loss: 1.3539e-04 - 4s/epoch - 125ms/step\n",
      "Epoch 15/20\n",
      "35/35 - 5s - loss: 1.4841e-04 - 5s/epoch - 154ms/step\n",
      "Epoch 16/20\n",
      "35/35 - 5s - loss: 1.6777e-04 - 5s/epoch - 139ms/step\n",
      "Epoch 17/20\n",
      "35/35 - 4s - loss: 1.3322e-04 - 4s/epoch - 126ms/step\n",
      "Epoch 18/20\n",
      "35/35 - 4s - loss: 1.3396e-04 - 4s/epoch - 125ms/step\n",
      "Epoch 19/20\n",
      "35/35 - 5s - loss: 1.4260e-04 - 5s/epoch - 136ms/step\n",
      "Epoch 20/20\n",
      "35/35 - 5s - loss: 1.3880e-04 - 5s/epoch - 131ms/step\n"
     ]
    }
   ],
   "source": [
    "hist = model.fit(X_train, y_train, epochs = 20, batch_size = 32, verbose=2)"
   ]
  },
  {
   "cell_type": "code",
   "execution_count": 10,
   "id": "6bb7296a",
   "metadata": {},
   "outputs": [
    {
     "data": {
      "image/png": "[encoded data removed]",
      "text/plain": [
       "<Figure size 640x480 with 1 Axes>"
      ]
     },
     "metadata": {},
     "output_type": "display_data"
    }
   ],
   "source": [
    "plt.plot(hist.history['loss'])\n",
    "plt.title('Training model loss')\n",
    "plt.ylabel('loss')\n",
    "plt.xlabel('epoch')\n",
    "plt.legend(['train'], loc='upper right')\n",
    "plt.show()"
   ]
  },
  {
   "cell_type": "code",
   "execution_count": 11,
   "id": "2039f2a7",
   "metadata": {},
   "outputs": [
    {
     "data": {
      "text/plain": [
       "(370, 60, 1)"
      ]
     },
     "execution_count": 11,
     "metadata": {},
     "output_type": "execute_result"
    }
   ],
   "source": [
    "testData = test\n",
    "testData = testData.iloc[:,4:5]\n",
    "y_test = testData.iloc[60:,0:].values \n",
    "#input array for the model\n",
    "inputClosing = testData.iloc[:,0:].values \n",
    "inputClosing_scaled = sc.transform(inputClosing)\n",
    "inputClosing_scaled.shape\n",
    "X_test = []\n",
    "length = len(testData)\n",
    "timestep = 60\n",
    "for i in range(timestep,length):  \n",
    "    X_test.append(inputClosing_scaled[i-timestep:i,0])\n",
    "X_test = np.array(X_test)\n",
    "X_test = np.reshape(X_test,(X_test.shape[0],X_test.shape[1],1))\n",
    "X_test.shape"
   ]
  },
  {
   "cell_type": "code",
   "execution_count": 12,
   "id": "469935a3",
   "metadata": {},
   "outputs": [
    {
     "name": "stdout",
     "output_type": "stream",
     "text": [
      "12/12 [==============================] - 1s 35ms/step\n"
     ]
    },
    {
     "data": {
      "text/plain": [
       "(370, 1)"
      ]
     },
     "execution_count": 12,
     "metadata": {},
     "output_type": "execute_result"
    }
   ],
   "source": [
    "y_pred = model.predict(X_test)\n",
    "y_pred.shape"
   ]
  },
  {
   "cell_type": "code",
   "execution_count": 13,
   "id": "d89ccfb8",
   "metadata": {},
   "outputs": [
    {
     "data": {
      "text/plain": [
       "array([[ 989.979  ],\n",
       "       [ 979.4065 ],\n",
       "       [ 973.57513],\n",
       "       [ 972.2766 ],\n",
       "       [ 975.18097],\n",
       "       [ 981.8169 ],\n",
       "       [ 990.53314],\n",
       "       [ 999.839  ],\n",
       "       [1008.2175 ],\n",
       "       [1015.91644],\n",
       "       [1023.4587 ],\n",
       "       [1031.5322 ],\n",
       "       [1040.4387 ],\n",
       "       [1050.0997 ],\n",
       "       [1060.8933 ],\n",
       "       [1072.7421 ],\n",
       "       [1085.1775 ],\n",
       "       [1097.804  ],\n",
       "       [1109.8615 ],\n",
       "       [1119.9087 ],\n",
       "       [1127.4899 ],\n",
       "       [1132.7822 ],\n",
       "       [1136.2578 ],\n",
       "       [1138.3236 ],\n",
       "       [1138.7806 ],\n",
       "       [1139.0242 ],\n",
       "       [1140.3816 ],\n",
       "       [1143.1819 ],\n",
       "       [1147.2861 ],\n",
       "       [1152.6261 ],\n",
       "       [1158.8824 ],\n",
       "       [1165.9169 ],\n",
       "       [1173.6738 ],\n",
       "       [1182.1912 ],\n",
       "       [1190.8854 ],\n",
       "       [1198.6885 ],\n",
       "       [1204.8416 ],\n",
       "       [1209.1744 ],\n",
       "       [1211.9746 ],\n",
       "       [1213.4862 ],\n",
       "       [1214.4397 ],\n",
       "       [1215.4094 ],\n",
       "       [1216.8075 ],\n",
       "       [1218.8936 ],\n",
       "       [1221.6698 ],\n",
       "       [1224.9231 ],\n",
       "       [1228.5569 ],\n",
       "       [1232.441  ],\n",
       "       [1236.4868 ],\n",
       "       [1240.5106 ],\n",
       "       [1243.9534 ],\n",
       "       [1246.7163 ],\n",
       "       [1248.9464 ],\n",
       "       [1250.8636 ],\n",
       "       [1252.8037 ],\n",
       "       [1254.0997 ],\n",
       "       [1254.2952 ],\n",
       "       [1253.3179 ],\n",
       "       [1251.6912 ],\n",
       "       [1250.0668 ],\n",
       "       [1248.6842 ],\n",
       "       [1247.4828 ],\n",
       "       [1246.7031 ],\n",
       "       [1246.7152 ],\n",
       "       [1247.2823 ],\n",
       "       [1248.1764 ],\n",
       "       [1248.1082 ],\n",
       "       [1246.5815 ],\n",
       "       [1243.8788 ],\n",
       "       [1240.8667 ],\n",
       "       [1238.7333 ],\n",
       "       [1238.6969 ],\n",
       "       [1241.222  ],\n",
       "       [1246.3317 ],\n",
       "       [1253.776  ],\n",
       "       [1263.2301 ],\n",
       "       [1273.7147 ],\n",
       "       [1284.2794 ],\n",
       "       [1294.0437 ],\n",
       "       [1302.3276 ],\n",
       "       [1308.7555 ],\n",
       "       [1313.8525 ],\n",
       "       [1318.0757 ],\n",
       "       [1321.8474 ],\n",
       "       [1324.7441 ],\n",
       "       [1326.219  ],\n",
       "       [1326.2611 ],\n",
       "       [1324.7505 ],\n",
       "       [1322.0419 ],\n",
       "       [1318.8212 ],\n",
       "       [1315.0331 ],\n",
       "       [1310.544  ],\n",
       "       [1305.2466 ],\n",
       "       [1299.3262 ],\n",
       "       [1293.4847 ],\n",
       "       [1288.3069 ],\n",
       "       [1284.17   ],\n",
       "       [1281.0272 ],\n",
       "       [1279.08   ],\n",
       "       [1278.5514 ],\n",
       "       [1279.3085 ],\n",
       "       [1281.215  ],\n",
       "       [1284.5681 ],\n",
       "       [1289.2987 ],\n",
       "       [1295.5048 ],\n",
       "       [1303.0046 ],\n",
       "       [1311.4869 ],\n",
       "       [1320.7383 ],\n",
       "       [1330.8983 ],\n",
       "       [1341.6329 ],\n",
       "       [1352.5197 ],\n",
       "       [1362.8964 ],\n",
       "       [1372.4753 ],\n",
       "       [1381.8577 ],\n",
       "       [1390.2802 ],\n",
       "       [1396.2976 ],\n",
       "       [1398.1693 ],\n",
       "       [1395.3767 ],\n",
       "       [1388.0404 ],\n",
       "       [1376.8309 ],\n",
       "       [1362.7902 ],\n",
       "       [1347.556  ],\n",
       "       [1332.3988 ],\n",
       "       [1318.0043 ],\n",
       "       [1304.3821 ],\n",
       "       [1291.2637 ],\n",
       "       [1278.9977 ],\n",
       "       [1267.395  ],\n",
       "       [1256.5818 ],\n",
       "       [1247.0555 ],\n",
       "       [1239.5685 ],\n",
       "       [1234.7375 ],\n",
       "       [1232.7859 ],\n",
       "       [1233.8484 ],\n",
       "       [1237.2404 ],\n",
       "       [1242.437  ],\n",
       "       [1248.4187 ],\n",
       "       [1254.3611 ],\n",
       "       [1260.0032 ],\n",
       "       [1265.6073 ],\n",
       "       [1272.1171 ],\n",
       "       [1280.1212 ],\n",
       "       [1289.5901 ],\n",
       "       [1299.923  ],\n",
       "       [1310.4752 ],\n",
       "       [1320.07   ],\n",
       "       [1328.0344 ],\n",
       "       [1334.506  ],\n",
       "       [1340.0471 ],\n",
       "       [1345.461  ],\n",
       "       [1350.5673 ],\n",
       "       [1355.1696 ],\n",
       "       [1357.8837 ],\n",
       "       [1358.316  ],\n",
       "       [1357.3843 ],\n",
       "       [1356.2251 ],\n",
       "       [1355.9713 ],\n",
       "       [1358.5963 ],\n",
       "       [1365.392  ],\n",
       "       [1376.45   ],\n",
       "       [1390.9165 ],\n",
       "       [1407.0667 ],\n",
       "       [1423.2396 ],\n",
       "       [1437.9971 ],\n",
       "       [1450.7172 ],\n",
       "       [1461.1556 ],\n",
       "       [1469.1217 ],\n",
       "       [1474.3376 ],\n",
       "       [1477.0111 ],\n",
       "       [1477.2689 ],\n",
       "       [1475.2987 ],\n",
       "       [1471.9459 ],\n",
       "       [1468.0638 ],\n",
       "       [1464.6257 ],\n",
       "       [1461.859  ],\n",
       "       [1460.2694 ],\n",
       "       [1460.4933 ],\n",
       "       [1462.7249 ],\n",
       "       [1466.7773 ],\n",
       "       [1472.088  ],\n",
       "       [1477.9102 ],\n",
       "       [1483.1323 ],\n",
       "       [1486.8116 ],\n",
       "       [1488.5549 ],\n",
       "       [1488.099  ],\n",
       "       [1485.6671 ],\n",
       "       [1481.6918 ],\n",
       "       [1476.5198 ],\n",
       "       [1470.3893 ],\n",
       "       [1463.7474 ],\n",
       "       [1456.9034 ],\n",
       "       [1450.2872 ],\n",
       "       [1444.373  ],\n",
       "       [1440.0377 ],\n",
       "       [1437.6357 ],\n",
       "       [1436.8743 ],\n",
       "       [1437.4922 ],\n",
       "       [1438.8186 ],\n",
       "       [1440.4381 ],\n",
       "       [1441.8502 ],\n",
       "       [1443.4    ],\n",
       "       [1445.7379 ],\n",
       "       [1448.6987 ],\n",
       "       [1451.6681 ],\n",
       "       [1454.2157 ],\n",
       "       [1455.8734 ],\n",
       "       [1456.3588 ],\n",
       "       [1456.3752 ],\n",
       "       [1457.8529 ],\n",
       "       [1462.1445 ],\n",
       "       [1469.7513 ],\n",
       "       [1480.3206 ],\n",
       "       [1493.0831 ],\n",
       "       [1505.8274 ],\n",
       "       [1517.072  ],\n",
       "       [1525.5902 ],\n",
       "       [1531.625  ],\n",
       "       [1536.0729 ],\n",
       "       [1541.4891 ],\n",
       "       [1549.4957 ],\n",
       "       [1560.9551 ],\n",
       "       [1575.548  ],\n",
       "       [1592.063  ],\n",
       "       [1609.1257 ],\n",
       "       [1625.437  ],\n",
       "       [1640.0193 ],\n",
       "       [1652.3982 ],\n",
       "       [1662.4493 ],\n",
       "       [1670.054  ],\n",
       "       [1675.046  ],\n",
       "       [1677.0669 ],\n",
       "       [1676.1874 ],\n",
       "       [1673.1019 ],\n",
       "       [1667.8258 ],\n",
       "       [1660.6586 ],\n",
       "       [1652.7133 ],\n",
       "       [1644.9929 ],\n",
       "       [1637.6086 ],\n",
       "       [1630.8497 ],\n",
       "       [1625.7283 ],\n",
       "       [1621.8444 ],\n",
       "       [1619.0743 ],\n",
       "       [1617.2374 ],\n",
       "       [1616.9432 ],\n",
       "       [1617.9427 ],\n",
       "       [1619.8619 ],\n",
       "       [1622.6501 ],\n",
       "       [1626.163  ],\n",
       "       [1629.4279 ],\n",
       "       [1631.7339 ],\n",
       "       [1632.7627 ],\n",
       "       [1632.6405 ],\n",
       "       [1631.5553 ],\n",
       "       [1629.7754 ],\n",
       "       [1627.4995 ],\n",
       "       [1625.1926 ],\n",
       "       [1623.244  ],\n",
       "       [1622.0863 ],\n",
       "       [1622.7452 ],\n",
       "       [1626.8268 ],\n",
       "       [1634.8563 ],\n",
       "       [1646.7361 ],\n",
       "       [1661.7152 ],\n",
       "       [1678.771  ],\n",
       "       [1696.3167 ],\n",
       "       [1712.9786 ],\n",
       "       [1727.5481 ],\n",
       "       [1739.7484 ],\n",
       "       [1749.5411 ],\n",
       "       [1757.1082 ],\n",
       "       [1762.5593 ],\n",
       "       [1766.0548 ],\n",
       "       [1767.5316 ],\n",
       "       [1767.6245 ],\n",
       "       [1767.0652 ],\n",
       "       [1766.1897 ],\n",
       "       [1765.9513 ],\n",
       "       [1767.3124 ],\n",
       "       [1770.2151 ],\n",
       "       [1774.1096 ],\n",
       "       [1777.9448 ],\n",
       "       [1780.9971 ],\n",
       "       [1783.1312 ],\n",
       "       [1784.583  ],\n",
       "       [1784.9469 ],\n",
       "       [1783.7583 ],\n",
       "       [1780.1067 ],\n",
       "       [1774.0192 ],\n",
       "       [1766.583  ],\n",
       "       [1759.079  ],\n",
       "       [1752.2212 ],\n",
       "       [1746.5391 ],\n",
       "       [1742.702  ],\n",
       "       [1740.865  ],\n",
       "       [1741.6273 ],\n",
       "       [1745.1267 ],\n",
       "       [1751.2094 ],\n",
       "       [1759.1095 ],\n",
       "       [1767.8257 ],\n",
       "       [1776.7004 ],\n",
       "       [1785.063  ],\n",
       "       [1792.1494 ],\n",
       "       [1797.9944 ],\n",
       "       [1802.8478 ],\n",
       "       [1806.8868 ],\n",
       "       [1810.3223 ],\n",
       "       [1813.5715 ],\n",
       "       [1816.8076 ],\n",
       "       [1820.2351 ],\n",
       "       [1823.6456 ],\n",
       "       [1826.6342 ],\n",
       "       [1829.1019 ],\n",
       "       [1830.6704 ],\n",
       "       [1831.5112 ],\n",
       "       [1831.9722 ],\n",
       "       [1832.2896 ],\n",
       "       [1832.6821 ],\n",
       "       [1833.2565 ],\n",
       "       [1834.0271 ],\n",
       "       [1834.8851 ],\n",
       "       [1835.6721 ],\n",
       "       [1836.3466 ],\n",
       "       [1837.5032 ],\n",
       "       [1839.7178 ],\n",
       "       [1843.2462 ],\n",
       "       [1847.6644 ],\n",
       "       [1852.5127 ],\n",
       "       [1857.6422 ],\n",
       "       [1862.9401 ],\n",
       "       [1868.4102 ],\n",
       "       [1873.6776 ],\n",
       "       [1878.3706 ],\n",
       "       [1881.7167 ],\n",
       "       [1883.6168 ],\n",
       "       [1884.4944 ],\n",
       "       [1884.9749 ],\n",
       "       [1886.4738 ],\n",
       "       [1890.0085 ],\n",
       "       [1895.3925 ],\n",
       "       [1902.8589 ],\n",
       "       [1912.0762 ],\n",
       "       [1922.1536 ],\n",
       "       [1932.1769 ],\n",
       "       [1941.526  ],\n",
       "       [1949.6476 ],\n",
       "       [1956.4259 ],\n",
       "       [1961.7596 ],\n",
       "       [1965.8882 ],\n",
       "       [1969.0222 ],\n",
       "       [1971.2305 ],\n",
       "       [1972.7665 ],\n",
       "       [1973.9384 ],\n",
       "       [1975.0621 ],\n",
       "       [1975.9764 ],\n",
       "       [1976.2825 ],\n",
       "       [1975.7983 ],\n",
       "       [1974.8745 ],\n",
       "       [1974.3739 ],\n",
       "       [1975.0883 ],\n",
       "       [1977.4915 ],\n",
       "       [1981.4395 ],\n",
       "       [1986.9801 ],\n",
       "       [1993.9382 ],\n",
       "       [2001.8807 ],\n",
       "       [2010.3228 ],\n",
       "       [2018.3552 ],\n",
       "       [2025.3574 ],\n",
       "       [2031.0597 ],\n",
       "       [2035.2761 ],\n",
       "       [2037.977  ]], dtype=float32)"
      ]
     },
     "execution_count": 13,
     "metadata": {},
     "output_type": "execute_result"
    }
   ],
   "source": [
    "predicted_price = sc.inverse_transform(y_pred)\n",
    "predicted_price"
   ]
  },
  {
   "cell_type": "code",
   "execution_count": 14,
   "id": "bec08424",
   "metadata": {
    "scrolled": false
   },
   "outputs": [
    {
     "data": {
      "image/png": "[encoded data removed]",
      "text/plain": [
       "<Figure size 640x480 with 1 Axes>"
      ]
     },
     "metadata": {},
     "output_type": "display_data"
    }
   ],
   "source": [
    "plt.plot(y_test, color = 'red', label = 'Actual Stock Price')\n",
    "plt.plot(predicted_price, color = 'green', label = 'Predicted Stock Price')\n",
    "plt.title('Google stock price prediction')\n",
    "plt.xlabel('Time')\n",
    "plt.ylabel('Stock Price')\n",
    "plt.legend()\n",
    "plt.show()"
   ]
  },
  {
   "cell_type": "code",
   "execution_count": 15,
   "id": "d48cb194",
   "metadata": {},
   "outputs": [],
   "source": [
    "model.save('googleModel.hdf5')"
   ]
  },
  {
   "cell_type": "code",
   "execution_count": 16,
   "id": "2d1da643",
   "metadata": {},
   "outputs": [],
   "source": [
    "import tensorflow as tf\n",
    "model = tf.keras.models.load_model('google_model.hdf5')"
   ]
  },
  {
   "cell_type": "code",
   "execution_count": 20,
   "id": "81ec6663",
   "metadata": {},
   "outputs": [
    {
     "data": {
      "text/plain": [
       "(1, 60, 1)"
      ]
     },
     "execution_count": 20,
     "metadata": {},
     "output_type": "execute_result"
    }
   ],
   "source": [
    "last60 = data['Close'][-61:-1].values\n",
    "last60 = last60.reshape((1, 60, 1))\n",
    "last60.shape"
   ]
  },
  {
   "cell_type": "code",
   "execution_count": 21,
   "id": "f5002253",
   "metadata": {},
   "outputs": [
    {
     "name": "stdout",
     "output_type": "stream",
     "text": [
      "1/1 [==============================] - 0s 30ms/step\n"
     ]
    },
    {
     "data": {
      "text/plain": [
       "2943.3027"
      ]
     },
     "execution_count": 21,
     "metadata": {},
     "output_type": "execute_result"
    }
   ],
   "source": [
    "predicted = model.predict(last60)\n",
    "predicted = sc.inverse_transform(predicted)[0, 0]\n",
    "predicted"
   ]
  },
  {
   "cell_type": "code",
   "execution_count": 23,
   "id": "68a92746",
   "metadata": {},
   "outputs": [
    {
     "data": {
      "text/plain": [
       "4295    2817.52002\n",
       "Name: Close, dtype: float64"
      ]
     },
     "execution_count": 23,
     "metadata": {},
     "output_type": "execute_result"
    }
   ],
   "source": [
    "data['Close'][-1:]"
   ]
  }
 ],
 "metadata": {
  "kernelspec": {
   "display_name": "Python 3 (ipykernel)",
   "language": "python",
   "name": "python3"
  },
  "language_info": {
   "codemirror_mode": {
    "name": "ipython",
    "version": 3
   },
   "file_extension": ".py",
   "mimetype": "text/x-python",
   "name": "python",
   "nbconvert_exporter": "python",
   "pygments_lexer": "ipython3",
   "version": "3.10.6"
  }
 },
 "nbformat": 4,
 "nbformat_minor": 5
}
