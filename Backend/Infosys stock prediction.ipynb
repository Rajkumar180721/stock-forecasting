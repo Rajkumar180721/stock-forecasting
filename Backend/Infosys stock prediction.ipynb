{
 "cells": [
  {
   "cell_type": "code",
   "execution_count": 1,
   "id": "f635d13d",
   "metadata": {},
   "outputs": [],
   "source": [
    "import os\n",
    "os.environ['TF_CPP_MIN_LOG_LEVEL'] = '2'"
   ]
  },
  {
   "cell_type": "code",
   "execution_count": 2,
   "id": "33ec4786",
   "metadata": {},
   "outputs": [
    {
     "name": "stderr",
     "output_type": "stream",
     "text": [
      "2022-11-07 21:51:34.417306: E tensorflow/stream_executor/cuda/cuda_blas.cc:2981] Unable to register cuBLAS factory: Attempting to register factory for plugin cuBLAS when one has already been registered\n"
     ]
    }
   ],
   "source": [
    "import numpy as np \n",
    "import pandas as pd \n",
    "import matplotlib.pyplot as plt \n",
    "from sklearn.preprocessing import MinMaxScaler\n",
    "from sklearn.model_selection import train_test_split\n",
    "from keras.models import Sequential\n",
    "from keras.layers import Dense,LSTM,Dropout"
   ]
  },
  {
   "cell_type": "code",
   "execution_count": 3,
   "id": "38e3ee4b",
   "metadata": {},
   "outputs": [
    {
     "data": {
      "text/plain": [
       "((1551, 7), (173, 7))"
      ]
     },
     "execution_count": 3,
     "metadata": {},
     "output_type": "execute_result"
    }
   ],
   "source": [
    "data = pd.read_csv('datasets/INFY.csv')\n",
    "data = data.dropna()\n",
    "train, test = train_test_split(data, test_size=0.1, shuffle=False)\n",
    "train.shape, test.shape"
   ]
  },
  {
   "cell_type": "code",
   "execution_count": 4,
   "id": "eb1f2817",
   "metadata": {},
   "outputs": [
    {
     "name": "stdout",
     "output_type": "stream",
     "text": [
      "<class 'pandas.core.frame.DataFrame'>\n",
      "RangeIndex: 1724 entries, 0 to 1723\n",
      "Data columns (total 7 columns):\n",
      " #   Column     Non-Null Count  Dtype  \n",
      "---  ------     --------------  -----  \n",
      " 0   Date       1724 non-null   object \n",
      " 1   Open       1724 non-null   float64\n",
      " 2   High       1724 non-null   float64\n",
      " 3   Low        1724 non-null   float64\n",
      " 4   Close      1724 non-null   float64\n",
      " 5   Adj Close  1724 non-null   float64\n",
      " 6   Volume     1724 non-null   int64  \n",
      "dtypes: float64(5), int64(1), object(1)\n",
      "memory usage: 94.4+ KB\n"
     ]
    }
   ],
   "source": [
    "data.info()"
   ]
  },
  {
   "cell_type": "code",
   "execution_count": 5,
   "id": "14b74014",
   "metadata": {},
   "outputs": [
    {
     "data": {
      "text/plain": [
       "1551"
      ]
     },
     "execution_count": 5,
     "metadata": {},
     "output_type": "execute_result"
    }
   ],
   "source": [
    "trainData = train.iloc[:,4:5].values\n",
    "sc = MinMaxScaler(feature_range=(0,1))\n",
    "trainData = sc.fit_transform(trainData)\n",
    "length, _ = trainData.shape\n",
    "length"
   ]
  },
  {
   "cell_type": "code",
   "execution_count": 6,
   "id": "4743a301",
   "metadata": {},
   "outputs": [],
   "source": [
    "X_train = []\n",
    "y_train = []\n",
    "\n",
    "for i in range (60,length): #60 : timestep // 1149 : length of the data\n",
    "    X_train.append(trainData[i-60:i,0]) \n",
    "    y_train.append(trainData[i,0])\n",
    "\n",
    "X_train,y_train = np.array(X_train),np.array(y_train)"
   ]
  },
  {
   "cell_type": "code",
   "execution_count": 7,
   "id": "6d4aaf6b",
   "metadata": {},
   "outputs": [
    {
     "data": {
      "text/plain": [
       "(1491, 60, 1)"
      ]
     },
     "execution_count": 7,
     "metadata": {},
     "output_type": "execute_result"
    }
   ],
   "source": [
    "X_train = np.reshape(X_train,(X_train.shape[0],X_train.shape[1],1)) #adding the batch_size axis\n",
    "X_train.shape"
   ]
  },
  {
   "cell_type": "code",
   "execution_count": 8,
   "id": "f9e4ce89",
   "metadata": {},
   "outputs": [],
   "source": [
    "model = Sequential()\n",
    "\n",
    "model.add(LSTM(units=100, return_sequences = True, input_shape =(X_train.shape[1],1)))\n",
    "model.add(Dropout(0.2))\n",
    "\n",
    "model.add(LSTM(units=100, return_sequences = True))\n",
    "model.add(Dropout(0.2))\n",
    "\n",
    "model.add(LSTM(units=100, return_sequences = True))\n",
    "model.add(Dropout(0.2))\n",
    "\n",
    "model.add(LSTM(units=100, return_sequences = False))\n",
    "model.add(Dropout(0.2))\n",
    "\n",
    "model.add(Dense(units =1))\n",
    "model.compile(optimizer='adam',loss=\"mean_squared_error\")"
   ]
  },
  {
   "cell_type": "code",
   "execution_count": 9,
   "id": "1aa79c6b",
   "metadata": {},
   "outputs": [
    {
     "name": "stdout",
     "output_type": "stream",
     "text": [
      "Epoch 1/20\n",
      "47/47 - 18s - loss: 0.0116 - 18s/epoch - 386ms/step\n",
      "Epoch 2/20\n",
      "47/47 - 6s - loss: 0.0022 - 6s/epoch - 134ms/step\n",
      "Epoch 3/20\n",
      "47/47 - 6s - loss: 0.0020 - 6s/epoch - 136ms/step\n",
      "Epoch 4/20\n",
      "47/47 - 6s - loss: 0.0020 - 6s/epoch - 130ms/step\n",
      "Epoch 5/20\n",
      "47/47 - 6s - loss: 0.0019 - 6s/epoch - 128ms/step\n",
      "Epoch 6/20\n",
      "47/47 - 6s - loss: 0.0020 - 6s/epoch - 130ms/step\n",
      "Epoch 7/20\n",
      "47/47 - 6s - loss: 0.0021 - 6s/epoch - 131ms/step\n",
      "Epoch 8/20\n",
      "47/47 - 6s - loss: 0.0016 - 6s/epoch - 132ms/step\n",
      "Epoch 9/20\n",
      "47/47 - 6s - loss: 0.0018 - 6s/epoch - 132ms/step\n",
      "Epoch 10/20\n",
      "47/47 - 6s - loss: 0.0014 - 6s/epoch - 130ms/step\n",
      "Epoch 11/20\n",
      "47/47 - 6s - loss: 0.0015 - 6s/epoch - 126ms/step\n",
      "Epoch 12/20\n",
      "47/47 - 6s - loss: 0.0018 - 6s/epoch - 128ms/step\n",
      "Epoch 13/20\n",
      "47/47 - 6s - loss: 0.0015 - 6s/epoch - 131ms/step\n",
      "Epoch 14/20\n",
      "47/47 - 6s - loss: 0.0013 - 6s/epoch - 132ms/step\n",
      "Epoch 15/20\n",
      "47/47 - 6s - loss: 0.0012 - 6s/epoch - 129ms/step\n",
      "Epoch 16/20\n",
      "47/47 - 6s - loss: 0.0012 - 6s/epoch - 128ms/step\n",
      "Epoch 17/20\n",
      "47/47 - 6s - loss: 0.0012 - 6s/epoch - 126ms/step\n",
      "Epoch 18/20\n",
      "47/47 - 6s - loss: 0.0014 - 6s/epoch - 128ms/step\n",
      "Epoch 19/20\n",
      "47/47 - 6s - loss: 0.0013 - 6s/epoch - 132ms/step\n",
      "Epoch 20/20\n",
      "47/47 - 6s - loss: 0.0015 - 6s/epoch - 135ms/step\n"
     ]
    }
   ],
   "source": [
    "hist = model.fit(X_train, y_train, epochs = 20, batch_size = 32, verbose=2)"
   ]
  },
  {
   "cell_type": "code",
   "execution_count": 10,
   "id": "7ffa38ff",
   "metadata": {},
   "outputs": [
    {
     "data": {
      "image/png": "[encoded data removed]",
      "text/plain": [
       "<Figure size 640x480 with 1 Axes>"
      ]
     },
     "metadata": {},
     "output_type": "display_data"
    }
   ],
   "source": [
    "plt.plot(hist.history['loss'])\n",
    "plt.title('Training model loss')\n",
    "plt.ylabel('loss')\n",
    "plt.xlabel('epoch')\n",
    "plt.legend(['train'], loc='upper right')\n",
    "plt.show()"
   ]
  },
  {
   "cell_type": "code",
   "execution_count": 11,
   "id": "c84520b4",
   "metadata": {},
   "outputs": [
    {
     "data": {
      "text/plain": [
       "(113, 60, 1)"
      ]
     },
     "execution_count": 11,
     "metadata": {},
     "output_type": "execute_result"
    }
   ],
   "source": [
    "testData = test\n",
    "testData = testData.iloc[:,4:5]\n",
    "y_test = testData.iloc[60:,0:].values \n",
    "#input array for the model\n",
    "inputClosing = testData.iloc[:,0:].values \n",
    "inputClosing_scaled = sc.transform(inputClosing)\n",
    "inputClosing_scaled.shape\n",
    "X_test = []\n",
    "length = len(testData)\n",
    "timestep = 60\n",
    "for i in range(timestep,length):  \n",
    "    X_test.append(inputClosing_scaled[i-timestep:i,0])\n",
    "X_test = np.array(X_test)\n",
    "X_test = np.reshape(X_test,(X_test.shape[0],X_test.shape[1],1))\n",
    "X_test.shape"
   ]
  },
  {
   "cell_type": "code",
   "execution_count": 12,
   "id": "516c79c6",
   "metadata": {},
   "outputs": [
    {
     "name": "stdout",
     "output_type": "stream",
     "text": [
      "4/4 [==============================] - 1s 36ms/step\n"
     ]
    },
    {
     "data": {
      "text/plain": [
       "(113, 1)"
      ]
     },
     "execution_count": 12,
     "metadata": {},
     "output_type": "execute_result"
    }
   ],
   "source": [
    "y_pred = model.predict(X_test)\n",
    "y_pred.shape"
   ]
  },
  {
   "cell_type": "code",
   "execution_count": 13,
   "id": "2be875e5",
   "metadata": {},
   "outputs": [
    {
     "data": {
      "text/plain": [
       "array([[19.571766],\n",
       "       [19.436995],\n",
       "       [19.326052],\n",
       "       [19.249943],\n",
       "       [19.214596],\n",
       "       [19.227966],\n",
       "       [19.28587 ],\n",
       "       [19.377018],\n",
       "       [19.485308],\n",
       "       [19.59046 ],\n",
       "       [19.671412],\n",
       "       [19.704866],\n",
       "       [19.671553],\n",
       "       [19.57728 ],\n",
       "       [19.441288],\n",
       "       [19.273418],\n",
       "       [19.087109],\n",
       "       [18.918375],\n",
       "       [18.786589],\n",
       "       [18.701078],\n",
       "       [18.666178],\n",
       "       [18.67974 ],\n",
       "       [18.726213],\n",
       "       [18.791185],\n",
       "       [18.86009 ],\n",
       "       [18.929226],\n",
       "       [18.993181],\n",
       "       [19.053005],\n",
       "       [19.11457 ],\n",
       "       [19.178661],\n",
       "       [19.230167],\n",
       "       [19.2517  ],\n",
       "       [19.233126],\n",
       "       [19.170732],\n",
       "       [19.076021],\n",
       "       [18.97093 ],\n",
       "       [18.880558],\n",
       "       [18.821499],\n",
       "       [18.809816],\n",
       "       [18.84247 ],\n",
       "       [18.90034 ],\n",
       "       [18.950089],\n",
       "       [18.985216],\n",
       "       [19.017632],\n",
       "       [19.065636],\n",
       "       [19.141508],\n",
       "       [19.243341],\n",
       "       [19.374031],\n",
       "       [19.53035 ],\n",
       "       [19.70548 ],\n",
       "       [19.887075],\n",
       "       [20.05958 ],\n",
       "       [20.214355],\n",
       "       [20.341541],\n",
       "       [20.434862],\n",
       "       [20.49359 ],\n",
       "       [20.522278],\n",
       "       [20.526812],\n",
       "       [20.511614],\n",
       "       [20.478127],\n",
       "       [20.42444 ],\n",
       "       [20.347054],\n",
       "       [20.248358],\n",
       "       [20.134651],\n",
       "       [20.00414 ],\n",
       "       [19.854136],\n",
       "       [19.689444],\n",
       "       [19.517496],\n",
       "       [19.350851],\n",
       "       [19.194723],\n",
       "       [19.050785],\n",
       "       [18.930424],\n",
       "       [18.844706],\n",
       "       [18.809301],\n",
       "       [18.833176],\n",
       "       [18.8979  ],\n",
       "       [18.969458],\n",
       "       [19.015139],\n",
       "       [19.008965],\n",
       "       [18.943596],\n",
       "       [18.818987],\n",
       "       [18.646471],\n",
       "       [18.43773 ],\n",
       "       [18.20723 ],\n",
       "       [17.973577],\n",
       "       [17.75665 ],\n",
       "       [17.57855 ],\n",
       "       [17.448206],\n",
       "       [17.366697],\n",
       "       [17.330294],\n",
       "       [17.34475 ],\n",
       "       [17.407711],\n",
       "       [17.504963],\n",
       "       [17.60944 ],\n",
       "       [17.708996],\n",
       "       [17.788397],\n",
       "       [17.837711],\n",
       "       [17.874596],\n",
       "       [17.911259],\n",
       "       [17.960665],\n",
       "       [18.025892],\n",
       "       [18.09782 ],\n",
       "       [18.166723],\n",
       "       [18.233906],\n",
       "       [18.30411 ],\n",
       "       [18.38284 ],\n",
       "       [18.471954],\n",
       "       [18.564726],\n",
       "       [18.658577],\n",
       "       [18.749142],\n",
       "       [18.83563 ],\n",
       "       [18.90629 ],\n",
       "       [18.947538]], dtype=float32)"
      ]
     },
     "execution_count": 13,
     "metadata": {},
     "output_type": "execute_result"
    }
   ],
   "source": [
    "predicted_price = sc.inverse_transform(y_pred)\n",
    "predicted_price"
   ]
  },
  {
   "cell_type": "code",
   "execution_count": 14,
   "id": "f296a7bf",
   "metadata": {
    "scrolled": false
   },
   "outputs": [
    {
     "data": {
      "image/png": "[encoded data removed]",
      "text/plain": [
       "<Figure size 640x480 with 1 Axes>"
      ]
     },
     "metadata": {},
     "output_type": "display_data"
    }
   ],
   "source": [
    "plt.plot(y_test, color = 'red', label = 'Actual Stock Price')\n",
    "plt.plot(predicted_price, color = 'green', label = 'Predicted Stock Price')\n",
    "plt.title('Infosys stock price prediction')\n",
    "plt.xlabel('Time')\n",
    "plt.ylabel('Stock Price')\n",
    "plt.legend()\n",
    "plt.show()"
   ]
  },
  {
   "cell_type": "code",
   "execution_count": 15,
   "id": "0e2f8b42",
   "metadata": {},
   "outputs": [],
   "source": [
    "model.save('infosys_model.hdf5')"
   ]
  },
  {
   "cell_type": "code",
   "execution_count": 16,
   "id": "75b44474",
   "metadata": {},
   "outputs": [],
   "source": [
    "import tensorflow as tf\n",
    "model = tf.keras.models.load_model('infosys_model.hdf5')"
   ]
  },
  {
   "cell_type": "code",
   "execution_count": 17,
   "id": "1dfc53f3",
   "metadata": {},
   "outputs": [
    {
     "data": {
      "text/plain": [
       "(1, 60, 1)"
      ]
     },
     "execution_count": 17,
     "metadata": {},
     "output_type": "execute_result"
    }
   ],
   "source": [
    "last60 = data['Close'][-60:].values\n",
    "last60 = last60.reshape((1, 60, 1))\n",
    "last60.shape"
   ]
  },
  {
   "cell_type": "code",
   "execution_count": 18,
   "id": "0f5a44e9",
   "metadata": {},
   "outputs": [
    {
     "name": "stdout",
     "output_type": "stream",
     "text": [
      "1/1 [==============================] - 1s 1s/step\n"
     ]
    },
    {
     "data": {
      "text/plain": [
       "43.69832"
      ]
     },
     "execution_count": 18,
     "metadata": {},
     "output_type": "execute_result"
    }
   ],
   "source": [
    "predicted = model.predict(last60)\n",
    "predicted = sc.inverse_transform(predicted)[0, 0]\n",
    "predicted"
   ]
  },
  {
   "cell_type": "code",
   "execution_count": 19,
   "id": "758dd3b1",
   "metadata": {},
   "outputs": [
    {
     "data": {
      "text/html": [
       "<div>\n",
       "<style scoped>\n",
       "    .dataframe tbody tr th:only-of-type {\n",
       "        vertical-align: middle;\n",
       "    }\n",
       "\n",
       "    .dataframe tbody tr th {\n",
       "        vertical-align: top;\n",
       "    }\n",
       "\n",
       "    .dataframe thead th {\n",
       "        text-align: right;\n",
       "    }\n",
       "</style>\n",
       "<table border=\"1\" class=\"dataframe\">\n",
       "  <thead>\n",
       "    <tr style=\"text-align: right;\">\n",
       "      <th></th>\n",
       "      <th>Date</th>\n",
       "      <th>Open</th>\n",
       "      <th>High</th>\n",
       "      <th>Low</th>\n",
       "      <th>Close</th>\n",
       "      <th>Adj Close</th>\n",
       "      <th>Volume</th>\n",
       "    </tr>\n",
       "  </thead>\n",
       "  <tbody>\n",
       "    <tr>\n",
       "      <th>1719</th>\n",
       "      <td>2022-10-31</td>\n",
       "      <td>18.660000</td>\n",
       "      <td>18.830000</td>\n",
       "      <td>18.610001</td>\n",
       "      <td>18.730000</td>\n",
       "      <td>18.730000</td>\n",
       "      <td>8585500</td>\n",
       "    </tr>\n",
       "    <tr>\n",
       "      <th>1720</th>\n",
       "      <td>2022-11-01</td>\n",
       "      <td>19.190001</td>\n",
       "      <td>19.219999</td>\n",
       "      <td>18.840000</td>\n",
       "      <td>18.910000</td>\n",
       "      <td>18.910000</td>\n",
       "      <td>5474700</td>\n",
       "    </tr>\n",
       "    <tr>\n",
       "      <th>1721</th>\n",
       "      <td>2022-11-02</td>\n",
       "      <td>18.709999</td>\n",
       "      <td>18.879999</td>\n",
       "      <td>18.410000</td>\n",
       "      <td>18.410000</td>\n",
       "      <td>18.410000</td>\n",
       "      <td>6370600</td>\n",
       "    </tr>\n",
       "    <tr>\n",
       "      <th>1722</th>\n",
       "      <td>2022-11-03</td>\n",
       "      <td>18.200001</td>\n",
       "      <td>18.270000</td>\n",
       "      <td>18.080000</td>\n",
       "      <td>18.190001</td>\n",
       "      <td>18.190001</td>\n",
       "      <td>11328700</td>\n",
       "    </tr>\n",
       "    <tr>\n",
       "      <th>1723</th>\n",
       "      <td>2022-11-04</td>\n",
       "      <td>18.270000</td>\n",
       "      <td>18.459999</td>\n",
       "      <td>18.100000</td>\n",
       "      <td>18.330000</td>\n",
       "      <td>18.330000</td>\n",
       "      <td>10899800</td>\n",
       "    </tr>\n",
       "  </tbody>\n",
       "</table>\n",
       "</div>"
      ],
      "text/plain": [
       "            Date       Open       High        Low      Close  Adj Close  \\\n",
       "1719  2022-10-31  18.660000  18.830000  18.610001  18.730000  18.730000   \n",
       "1720  2022-11-01  19.190001  19.219999  18.840000  18.910000  18.910000   \n",
       "1721  2022-11-02  18.709999  18.879999  18.410000  18.410000  18.410000   \n",
       "1722  2022-11-03  18.200001  18.270000  18.080000  18.190001  18.190001   \n",
       "1723  2022-11-04  18.270000  18.459999  18.100000  18.330000  18.330000   \n",
       "\n",
       "        Volume  \n",
       "1719   8585500  \n",
       "1720   5474700  \n",
       "1721   6370600  \n",
       "1722  11328700  \n",
       "1723  10899800  "
      ]
     },
     "execution_count": 19,
     "metadata": {},
     "output_type": "execute_result"
    }
   ],
   "source": [
    "data.tail()"
   ]
  }
 ],
 "metadata": {
  "kernelspec": {
   "display_name": "Python 3 (ipykernel)",
   "language": "python",
   "name": "python3"
  },
  "language_info": {
   "codemirror_mode": {
    "name": "ipython",
    "version": 3
   },
   "file_extension": ".py",
   "mimetype": "text/x-python",
   "name": "python",
   "nbconvert_exporter": "python",
   "pygments_lexer": "ipython3",
   "version": "3.10.6"
  }
 },
 "nbformat": 4,
 "nbformat_minor": 5
}
