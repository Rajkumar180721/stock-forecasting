{
 "cells": [
  {
   "cell_type": "code",
   "execution_count": 1,
   "id": "f635d13d",
   "metadata": {},
   "outputs": [],
   "source": [
    "import os\n",
    "os.environ['TF_CPP_MIN_LOG_LEVEL'] = '2'"
   ]
  },
  {
   "cell_type": "code",
   "execution_count": 2,
   "id": "33ec4786",
   "metadata": {},
   "outputs": [
    {
     "name": "stderr",
     "output_type": "stream",
     "text": [
      "2022-11-27 19:04:23.022926: E tensorflow/stream_executor/cuda/cuda_blas.cc:2981] Unable to register cuBLAS factory: Attempting to register factory for plugin cuBLAS when one has already been registered\n"
     ]
    }
   ],
   "source": [
    "import numpy as np \n",
    "import pandas as pd \n",
    "import matplotlib.pyplot as plt \n",
    "from sklearn.preprocessing import MinMaxScaler\n",
    "from sklearn.model_selection import train_test_split\n",
    "from keras.models import Sequential\n",
    "from keras.layers import Dense,LSTM,Dropout\n",
    "from keras.metrics import SparseCategoricalAccuracy"
   ]
  },
  {
   "cell_type": "code",
   "execution_count": 52,
   "id": "38e3ee4b",
   "metadata": {},
   "outputs": [],
   "source": [
    "data = pd.read_csv('datasets/INFY.csv')\n",
    "data = data.dropna()\n",
    "train, test = train_test_split(data, test_size=0.1, shuffle=False)\n",
    "train.shape, test.shape\n",
    "train = data"
   ]
  },
  {
   "cell_type": "code",
   "execution_count": 4,
   "id": "eb1f2817",
   "metadata": {
    "collapsed": true
   },
   "outputs": [
    {
     "name": "stdout",
     "output_type": "stream",
     "text": [
      "<class 'pandas.core.frame.DataFrame'>\n",
      "RangeIndex: 1724 entries, 0 to 1723\n",
      "Data columns (total 7 columns):\n",
      " #   Column     Non-Null Count  Dtype  \n",
      "---  ------     --------------  -----  \n",
      " 0   Date       1724 non-null   object \n",
      " 1   Open       1724 non-null   float64\n",
      " 2   High       1724 non-null   float64\n",
      " 3   Low        1724 non-null   float64\n",
      " 4   Close      1724 non-null   float64\n",
      " 5   Adj Close  1724 non-null   float64\n",
      " 6   Volume     1724 non-null   int64  \n",
      "dtypes: float64(5), int64(1), object(1)\n",
      "memory usage: 94.4+ KB\n"
     ]
    }
   ],
   "source": [
    "data.info()"
   ]
  },
  {
   "cell_type": "code",
   "execution_count": 4,
   "id": "14b74014",
   "metadata": {},
   "outputs": [
    {
     "data": {
      "text/plain": [
       "1724"
      ]
     },
     "execution_count": 4,
     "metadata": {},
     "output_type": "execute_result"
    }
   ],
   "source": [
    "trainData = train.iloc[:,4:5].values\n",
    "# print(trainData)\n",
    "sc = MinMaxScaler(feature_range=(0,1))\n",
    "trainData = sc.fit_transform(trainData)\n",
    "# print(trainData)\n",
    "length, _ = trainData.shape\n",
    "length"
   ]
  },
  {
   "cell_type": "code",
   "execution_count": 5,
   "id": "4743a301",
   "metadata": {},
   "outputs": [
    {
     "data": {
      "text/plain": [
       "(1664, 60)"
      ]
     },
     "execution_count": 5,
     "metadata": {},
     "output_type": "execute_result"
    }
   ],
   "source": [
    "X_train = []\n",
    "y_train = []\n",
    "\n",
    "for i in range (60,length): #60 : timestep // 1149 : length of the data\n",
    "    X_train.append(trainData[i-60:i,0]) \n",
    "    y_train.append(trainData[i,0])\n",
    "\n",
    "X_train,y_train = np.array(X_train),np.array(y_train)\n",
    "X_train.shape"
   ]
  },
  {
   "cell_type": "code",
   "execution_count": 6,
   "id": "6d4aaf6b",
   "metadata": {},
   "outputs": [
    {
     "data": {
      "text/plain": [
       "(1664, 60, 1)"
      ]
     },
     "execution_count": 6,
     "metadata": {},
     "output_type": "execute_result"
    }
   ],
   "source": [
    "X_train = np.reshape(X_train,(X_train.shape[0],X_train.shape[1],1)) #adding the batch_size axis\n",
    "X_train.shape"
   ]
  },
  {
   "cell_type": "code",
   "execution_count": 7,
   "id": "f9e4ce89",
   "metadata": {},
   "outputs": [],
   "source": [
    "model = Sequential()\n",
    "\n",
    "model.add(LSTM(units=100, return_sequences = True, input_shape =(X_train.shape[1],1)))\n",
    "model.add(Dropout(0.2))\n",
    "\n",
    "model.add(LSTM(units=100, return_sequences = True))\n",
    "model.add(Dropout(0.2))\n",
    "\n",
    "model.add(LSTM(units=100, return_sequences = True))\n",
    "model.add(Dropout(0.2))\n",
    "\n",
    "model.add(LSTM(units=100, return_sequences = False))\n",
    "model.add(Dropout(0.2))\n",
    "\n",
    "model.add(Dense(units =1))\n",
    "model.compile(optimizer='adam',loss=\"mean_squared_error\", metrics=[SparseCategoricalAccuracy()])\n",
    "# model.compile(\n",
    "#     optimizer=keras.optimizers.RMSprop(learning_rate=1e-3),\n",
    "#     loss=keras.losses.SparseCategoricalCrossentropy(),\n",
    "#     metrics=[keras.metrics.SparseCategoricalAccuracy()],\n",
    "# )"
   ]
  },
  {
   "cell_type": "code",
   "execution_count": 8,
   "id": "1aa79c6b",
   "metadata": {},
   "outputs": [
    {
     "name": "stdout",
     "output_type": "stream",
     "text": [
      "Epoch 1/20\n",
      "52/52 [==============================] - 9s 97ms/step - loss: 0.0141 - sparse_categorical_accuracy: 6.0096e-04\n",
      "Epoch 2/20\n",
      "52/52 [==============================] - 5s 100ms/step - loss: 0.0028 - sparse_categorical_accuracy: 6.0096e-04\n",
      "Epoch 3/20\n",
      "52/52 [==============================] - 5s 97ms/step - loss: 0.0027 - sparse_categorical_accuracy: 6.0096e-04\n",
      "Epoch 4/20\n",
      "52/52 [==============================] - 5s 98ms/step - loss: 0.0026 - sparse_categorical_accuracy: 6.0096e-04\n",
      "Epoch 5/20\n",
      "52/52 [==============================] - 5s 99ms/step - loss: 0.0021 - sparse_categorical_accuracy: 6.0096e-04\n",
      "Epoch 6/20\n",
      "52/52 [==============================] - 6s 111ms/step - loss: 0.0021 - sparse_categorical_accuracy: 6.0096e-04\n",
      "Epoch 7/20\n",
      "52/52 [==============================] - 6s 114ms/step - loss: 0.0030 - sparse_categorical_accuracy: 6.0096e-04\n",
      "Epoch 8/20\n",
      "52/52 [==============================] - 6s 110ms/step - loss: 0.0029 - sparse_categorical_accuracy: 6.0096e-04\n",
      "Epoch 9/20\n",
      "52/52 [==============================] - 5s 98ms/step - loss: 0.0019 - sparse_categorical_accuracy: 6.0096e-04\n",
      "Epoch 10/20\n",
      "52/52 [==============================] - 6s 108ms/step - loss: 0.0021 - sparse_categorical_accuracy: 6.0096e-04\n",
      "Epoch 11/20\n",
      "52/52 [==============================] - 6s 110ms/step - loss: 0.0020 - sparse_categorical_accuracy: 6.0096e-04\n",
      "Epoch 12/20\n",
      "52/52 [==============================] - 6s 123ms/step - loss: 0.0017 - sparse_categorical_accuracy: 6.0096e-04\n",
      "Epoch 13/20\n",
      "52/52 [==============================] - 5s 104ms/step - loss: 0.0019 - sparse_categorical_accuracy: 6.0096e-04\n",
      "Epoch 14/20\n",
      "52/52 [==============================] - 6s 118ms/step - loss: 0.0027 - sparse_categorical_accuracy: 6.0096e-04\n",
      "Epoch 15/20\n",
      "52/52 [==============================] - 6s 110ms/step - loss: 0.0015 - sparse_categorical_accuracy: 6.0096e-04\n",
      "Epoch 16/20\n",
      "52/52 [==============================] - 5s 99ms/step - loss: 0.0015 - sparse_categorical_accuracy: 6.0096e-04\n",
      "Epoch 17/20\n",
      "52/52 [==============================] - 6s 108ms/step - loss: 0.0019 - sparse_categorical_accuracy: 6.0096e-04\n",
      "Epoch 18/20\n",
      "52/52 [==============================] - 6s 110ms/step - loss: 0.0015 - sparse_categorical_accuracy: 6.0096e-04\n",
      "Epoch 19/20\n",
      "52/52 [==============================] - 5s 101ms/step - loss: 0.0016 - sparse_categorical_accuracy: 6.0096e-04\n",
      "Epoch 20/20\n",
      "52/52 [==============================] - 6s 109ms/step - loss: 0.0015 - sparse_categorical_accuracy: 6.0096e-04\n"
     ]
    }
   ],
   "source": [
    "hist = model.fit(X_train, y_train, epochs = 20, batch_size = 32, verbose=1)"
   ]
  },
  {
   "cell_type": "code",
   "execution_count": 9,
   "id": "7ffa38ff",
   "metadata": {
    "scrolled": false
   },
   "outputs": [
    {
     "data": {
      "image/png": "[encoded data removed]",
      "text/plain": [
       "<Figure size 640x480 with 1 Axes>"
      ]
     },
     "metadata": {},
     "output_type": "display_data"
    }
   ],
   "source": [
    "plt.plot(hist.history['loss'])\n",
    "plt.title('Training model loss')\n",
    "plt.ylabel('loss')\n",
    "plt.xlabel('epoch')\n",
    "plt.legend(['train'], loc='upper right')\n",
    "plt.show()"
   ]
  },
  {
   "cell_type": "code",
   "execution_count": 42,
   "id": "c84520b4",
   "metadata": {},
   "outputs": [
    {
     "name": "stdout",
     "output_type": "stream",
     "text": [
      "          Close\n",
      "1551  22.590000\n",
      "1552  22.520000\n",
      "1553  22.459999\n",
      "1554  22.580000\n",
      "1555  23.330000\n",
      "...         ...\n",
      "1719  18.730000\n",
      "1720  18.910000\n",
      "1721  18.410000\n",
      "1722  18.190001\n",
      "1723  18.330000\n",
      "\n",
      "[173 rows x 1 columns]\n"
     ]
    },
    {
     "data": {
      "text/plain": [
       "(113, 60, 1)"
      ]
     },
     "execution_count": 42,
     "metadata": {},
     "output_type": "execute_result"
    }
   ],
   "source": [
    "testData = test\n",
    "testData = testData.iloc[:,4:5]\n",
    "y_test = testData.iloc[60:,0:].values \n",
    "#input array for the model\n",
    "inputClosing = testData.iloc[:,0:].values \n",
    "print(testData)\n",
    "inputClosing_scaled = sc.transform(inputClosing)\n",
    "inputClosing_scaled.shape\n",
    "X_test = []\n",
    "length = len(testData)\n",
    "timestep = 60\n",
    "for i in range(timestep,length):  \n",
    "    X_test.append(inputClosing_scaled[i-timestep:i,0])\n",
    "X_test = np.array(X_test)\n",
    "X_test = np.reshape(X_test,(X_test.shape[0],X_test.shape[1],1))\n",
    "X_test.shape"
   ]
  },
  {
   "cell_type": "code",
   "execution_count": 19,
   "id": "516c79c6",
   "metadata": {
    "collapsed": true
   },
   "outputs": [
    {
     "name": "stdout",
     "output_type": "stream",
     "text": [
      "4/4 [==============================] - 1s 31ms/step\n"
     ]
    },
    {
     "data": {
      "text/plain": [
       "array([[20.032768],\n",
       "       [19.898981],\n",
       "       [19.781816],\n",
       "       [19.691067],\n",
       "       [19.633245],\n",
       "       [19.616316],\n",
       "       [19.639545],\n",
       "       [19.696259],\n",
       "       [19.775145],\n",
       "       [19.860626],\n",
       "       [19.93524 ],\n",
       "       [19.978857],\n",
       "       [19.973293],\n",
       "       [19.918169],\n",
       "       [19.824224],\n",
       "       [19.697323],\n",
       "       [19.546854],\n",
       "       [19.399677],\n",
       "       [19.272879],\n",
       "       [19.177048],\n",
       "       [19.119144],\n",
       "       [19.10104 ],\n",
       "       [19.114082],\n",
       "       [19.148804],\n",
       "       [19.194357],\n",
       "       [19.24672 ],\n",
       "       [19.300575],\n",
       "       [19.35515 ],\n",
       "       [19.413507],\n",
       "       [19.475637],\n",
       "       [19.530188],\n",
       "       [19.563168],\n",
       "       [19.564978],\n",
       "       [19.53049 ],\n",
       "       [19.465895],\n",
       "       [19.386246],\n",
       "       [19.310545],\n",
       "       [19.253199],\n",
       "       [19.228916],\n",
       "       [19.2391  ],\n",
       "       [19.272598],\n",
       "       [19.306072],\n",
       "       [19.333122],\n",
       "       [19.36059 ],\n",
       "       [19.401085],\n",
       "       [19.464165],\n",
       "       [19.549799],\n",
       "       [19.660969],\n",
       "       [19.796234],\n",
       "       [19.951115],\n",
       "       [20.116564],\n",
       "       [20.280386],\n",
       "       [20.434515],\n",
       "       [20.569822],\n",
       "       [20.679577],\n",
       "       [20.761097],\n",
       "       [20.815979],\n",
       "       [20.84744 ],\n",
       "       [20.858274],\n",
       "       [20.849525],\n",
       "       [20.81993 ],\n",
       "       [20.766956],\n",
       "       [20.69208 ],\n",
       "       [20.599792],\n",
       "       [20.489159],\n",
       "       [20.358404],\n",
       "       [20.21094 ],\n",
       "       [20.05241 ],\n",
       "       [19.892622],\n",
       "       [19.736776],\n",
       "       [19.58763 ],\n",
       "       [19.454832],\n",
       "       [19.348356],\n",
       "       [19.281916],\n",
       "       [19.264988],\n",
       "       [19.28721 ],\n",
       "       [19.32497 ],\n",
       "       [19.352886],\n",
       "       [19.348358],\n",
       "       [19.30125 ],\n",
       "       [19.207155],\n",
       "       [19.070852],\n",
       "       [18.898817],\n",
       "       [18.700788],\n",
       "       [18.49074 ],\n",
       "       [18.284857],\n",
       "       [18.102114],\n",
       "       [17.952942],\n",
       "       [17.841986],\n",
       "       [17.769764],\n",
       "       [17.742865],\n",
       "       [17.761833],\n",
       "       [17.817793],\n",
       "       [17.890965],\n",
       "       [17.970413],\n",
       "       [18.042383],\n",
       "       [18.09635 ],\n",
       "       [18.142012],\n",
       "       [18.187   ],\n",
       "       [18.240627],\n",
       "       [18.30595 ],\n",
       "       [18.3772  ],\n",
       "       [18.447388],\n",
       "       [18.516914],\n",
       "       [18.588923],\n",
       "       [18.667507],\n",
       "       [18.754475],\n",
       "       [18.845425],\n",
       "       [18.938402],\n",
       "       [19.03    ],\n",
       "       [19.119144],\n",
       "       [19.19685 ],\n",
       "       [19.252075]], dtype=float32)"
      ]
     },
     "execution_count": 19,
     "metadata": {},
     "output_type": "execute_result"
    }
   ],
   "source": [
    "y_pred = model.predict(X_test)\n",
    "y_pred.shape\n",
    "sc.inverse_transform(y_pred)"
   ]
  },
  {
   "cell_type": "code",
   "execution_count": 20,
   "id": "2be875e5",
   "metadata": {
    "collapsed": true
   },
   "outputs": [
    {
     "data": {
      "text/plain": [
       "array([[20.032768],\n",
       "       [19.898981],\n",
       "       [19.781816],\n",
       "       [19.691067],\n",
       "       [19.633245],\n",
       "       [19.616316],\n",
       "       [19.639545],\n",
       "       [19.696259],\n",
       "       [19.775145],\n",
       "       [19.860626],\n",
       "       [19.93524 ],\n",
       "       [19.978857],\n",
       "       [19.973293],\n",
       "       [19.918169],\n",
       "       [19.824224],\n",
       "       [19.697323],\n",
       "       [19.546854],\n",
       "       [19.399677],\n",
       "       [19.272879],\n",
       "       [19.177048],\n",
       "       [19.119144],\n",
       "       [19.10104 ],\n",
       "       [19.114082],\n",
       "       [19.148804],\n",
       "       [19.194357],\n",
       "       [19.24672 ],\n",
       "       [19.300575],\n",
       "       [19.35515 ],\n",
       "       [19.413507],\n",
       "       [19.475637],\n",
       "       [19.530188],\n",
       "       [19.563168],\n",
       "       [19.564978],\n",
       "       [19.53049 ],\n",
       "       [19.465895],\n",
       "       [19.386246],\n",
       "       [19.310545],\n",
       "       [19.253199],\n",
       "       [19.228916],\n",
       "       [19.2391  ],\n",
       "       [19.272598],\n",
       "       [19.306072],\n",
       "       [19.333122],\n",
       "       [19.36059 ],\n",
       "       [19.401085],\n",
       "       [19.464165],\n",
       "       [19.549799],\n",
       "       [19.660969],\n",
       "       [19.796234],\n",
       "       [19.951115],\n",
       "       [20.116564],\n",
       "       [20.280386],\n",
       "       [20.434515],\n",
       "       [20.569822],\n",
       "       [20.679577],\n",
       "       [20.761097],\n",
       "       [20.815979],\n",
       "       [20.84744 ],\n",
       "       [20.858274],\n",
       "       [20.849525],\n",
       "       [20.81993 ],\n",
       "       [20.766956],\n",
       "       [20.69208 ],\n",
       "       [20.599792],\n",
       "       [20.489159],\n",
       "       [20.358404],\n",
       "       [20.21094 ],\n",
       "       [20.05241 ],\n",
       "       [19.892622],\n",
       "       [19.736776],\n",
       "       [19.58763 ],\n",
       "       [19.454832],\n",
       "       [19.348356],\n",
       "       [19.281916],\n",
       "       [19.264988],\n",
       "       [19.28721 ],\n",
       "       [19.32497 ],\n",
       "       [19.352886],\n",
       "       [19.348358],\n",
       "       [19.30125 ],\n",
       "       [19.207155],\n",
       "       [19.070852],\n",
       "       [18.898817],\n",
       "       [18.700788],\n",
       "       [18.49074 ],\n",
       "       [18.284857],\n",
       "       [18.102114],\n",
       "       [17.952942],\n",
       "       [17.841986],\n",
       "       [17.769764],\n",
       "       [17.742865],\n",
       "       [17.761833],\n",
       "       [17.817793],\n",
       "       [17.890965],\n",
       "       [17.970413],\n",
       "       [18.042383],\n",
       "       [18.09635 ],\n",
       "       [18.142012],\n",
       "       [18.187   ],\n",
       "       [18.240627],\n",
       "       [18.30595 ],\n",
       "       [18.3772  ],\n",
       "       [18.447388],\n",
       "       [18.516914],\n",
       "       [18.588923],\n",
       "       [18.667507],\n",
       "       [18.754475],\n",
       "       [18.845425],\n",
       "       [18.938402],\n",
       "       [19.03    ],\n",
       "       [19.119144],\n",
       "       [19.19685 ],\n",
       "       [19.252075]], dtype=float32)"
      ]
     },
     "execution_count": 20,
     "metadata": {},
     "output_type": "execute_result"
    }
   ],
   "source": [
    "predicted_price = sc.inverse_transform(y_pred)\n",
    "predicted_price"
   ]
  },
  {
   "cell_type": "code",
   "execution_count": 21,
   "id": "f296a7bf",
   "metadata": {},
   "outputs": [
    {
     "data": {
      "image/png": "[encoded data removed]",
      "text/plain": [
       "<Figure size 640x480 with 1 Axes>"
      ]
     },
     "metadata": {},
     "output_type": "display_data"
    }
   ],
   "source": [
    "plt.plot(y_test, color = 'red', label = 'Actual Stock Price')\n",
    "plt.plot(predicted_price, color = 'green', label = 'Predicted Stock Price')\n",
    "plt.title('Infosys stock price prediction')\n",
    "plt.xlabel('Time')\n",
    "plt.ylabel('Stock Price')\n",
    "plt.legend()\n",
    "plt.show()"
   ]
  },
  {
   "cell_type": "code",
   "execution_count": 10,
   "id": "0e2f8b42",
   "metadata": {},
   "outputs": [],
   "source": [
    "model.save('infosys_model.hdf5')"
   ]
  },
  {
   "cell_type": "code",
   "execution_count": 8,
   "id": "75b44474",
   "metadata": {},
   "outputs": [],
   "source": [
    "import tensorflow as tf\n",
    "model = tf.keras.models.load_model('infosys_model.hdf5')"
   ]
  },
  {
   "cell_type": "code",
   "execution_count": 9,
   "id": "1dfc53f3",
   "metadata": {},
   "outputs": [
    {
     "name": "stdout",
     "output_type": "stream",
     "text": [
      "(1, 60, 1)\n"
     ]
    }
   ],
   "source": [
    "last60 = data['Close'][-60:].values\n",
    "last60 = last60.reshape((60, 1))\n",
    "last60 = sc.transform(last60)\n",
    "last60 = last60.reshape((1, 60, 1))\n",
    "print(last60.shape)"
   ]
  },
  {
   "cell_type": "code",
   "execution_count": 10,
   "id": "0f5a44e9",
   "metadata": {
    "scrolled": true
   },
   "outputs": [
    {
     "name": "stdout",
     "output_type": "stream",
     "text": [
      "1/1 [==============================] - 1s 1s/step\n"
     ]
    },
    {
     "data": {
      "text/plain": [
       "18.68893"
      ]
     },
     "execution_count": 10,
     "metadata": {},
     "output_type": "execute_result"
    }
   ],
   "source": [
    "predicted = model.predict(last60)\n",
    "predicted = sc.inverse_transform(predicted)[0, 0]\n",
    "predicted"
   ]
  },
  {
   "cell_type": "markdown",
   "id": "27230dea",
   "metadata": {},
   "source": [
    "# Monthly report feature"
   ]
  },
  {
   "cell_type": "code",
   "execution_count": 48,
   "id": "68710417",
   "metadata": {},
   "outputs": [
    {
     "data": {
      "text/html": [
       "<div>\n",
       "<style scoped>\n",
       "    .dataframe tbody tr th:only-of-type {\n",
       "        vertical-align: middle;\n",
       "    }\n",
       "\n",
       "    .dataframe tbody tr th {\n",
       "        vertical-align: top;\n",
       "    }\n",
       "\n",
       "    .dataframe thead th {\n",
       "        text-align: right;\n",
       "    }\n",
       "</style>\n",
       "<table border=\"1\" class=\"dataframe\">\n",
       "  <thead>\n",
       "    <tr style=\"text-align: right;\">\n",
       "      <th></th>\n",
       "      <th>Date</th>\n",
       "      <th>Open</th>\n",
       "      <th>High</th>\n",
       "      <th>Low</th>\n",
       "      <th>Close</th>\n",
       "      <th>Adj Close</th>\n",
       "      <th>Volume</th>\n",
       "    </tr>\n",
       "  </thead>\n",
       "  <tbody>\n",
       "    <tr>\n",
       "      <th>1719</th>\n",
       "      <td>2022-10-31</td>\n",
       "      <td>18.660000</td>\n",
       "      <td>18.830000</td>\n",
       "      <td>18.610001</td>\n",
       "      <td>18.730000</td>\n",
       "      <td>18.730000</td>\n",
       "      <td>8585500</td>\n",
       "    </tr>\n",
       "    <tr>\n",
       "      <th>1720</th>\n",
       "      <td>2022-11-01</td>\n",
       "      <td>19.190001</td>\n",
       "      <td>19.219999</td>\n",
       "      <td>18.840000</td>\n",
       "      <td>18.910000</td>\n",
       "      <td>18.910000</td>\n",
       "      <td>5474700</td>\n",
       "    </tr>\n",
       "    <tr>\n",
       "      <th>1721</th>\n",
       "      <td>2022-11-02</td>\n",
       "      <td>18.709999</td>\n",
       "      <td>18.879999</td>\n",
       "      <td>18.410000</td>\n",
       "      <td>18.410000</td>\n",
       "      <td>18.410000</td>\n",
       "      <td>6370600</td>\n",
       "    </tr>\n",
       "    <tr>\n",
       "      <th>1722</th>\n",
       "      <td>2022-11-03</td>\n",
       "      <td>18.200001</td>\n",
       "      <td>18.270000</td>\n",
       "      <td>18.080000</td>\n",
       "      <td>18.190001</td>\n",
       "      <td>18.190001</td>\n",
       "      <td>11328700</td>\n",
       "    </tr>\n",
       "    <tr>\n",
       "      <th>1723</th>\n",
       "      <td>2022-11-04</td>\n",
       "      <td>18.270000</td>\n",
       "      <td>18.459999</td>\n",
       "      <td>18.100000</td>\n",
       "      <td>18.330000</td>\n",
       "      <td>18.330000</td>\n",
       "      <td>10899800</td>\n",
       "    </tr>\n",
       "  </tbody>\n",
       "</table>\n",
       "</div>"
      ],
      "text/plain": [
       "           Date       Open       High        Low      Close  Adj Close  \\\n",
       "1719 2022-10-31  18.660000  18.830000  18.610001  18.730000  18.730000   \n",
       "1720 2022-11-01  19.190001  19.219999  18.840000  18.910000  18.910000   \n",
       "1721 2022-11-02  18.709999  18.879999  18.410000  18.410000  18.410000   \n",
       "1722 2022-11-03  18.200001  18.270000  18.080000  18.190001  18.190001   \n",
       "1723 2022-11-04  18.270000  18.459999  18.100000  18.330000  18.330000   \n",
       "\n",
       "        Volume  \n",
       "1719   8585500  \n",
       "1720   5474700  \n",
       "1721   6370600  \n",
       "1722  11328700  \n",
       "1723  10899800  "
      ]
     },
     "execution_count": 48,
     "metadata": {},
     "output_type": "execute_result"
    }
   ],
   "source": [
    "tail = data.tail()\n",
    "tail"
   ]
  },
  {
   "cell_type": "code",
   "execution_count": 53,
   "id": "08833712",
   "metadata": {},
   "outputs": [],
   "source": [
    "data['Date'] = pd.to_datetime(data[\"Date\"])"
   ]
  },
  {
   "cell_type": "code",
   "execution_count": 27,
   "id": "7adadaa0",
   "metadata": {},
   "outputs": [],
   "source": [
    "import datetime"
   ]
  },
  {
   "cell_type": "code",
   "execution_count": null,
   "id": "e310896a",
   "metadata": {},
   "outputs": [],
   "source": [
    "# date_before = datetime.date(2016, 1, 19),\n",
    "# a = df[df['newest_date_available'] < date_before]\n",
    "# date_time_str = '2018-06-29 08:15:27.243860'\n",
    "# date_time_obj = datetime.datetime.strptime(date_time_str, '%Y-%m-%d %H:%M:%S.%f')"
   ]
  },
  {
   "cell_type": "code",
   "execution_count": 75,
   "id": "60a25a67",
   "metadata": {},
   "outputs": [
    {
     "name": "stdout",
     "output_type": "stream",
     "text": [
      "29 days, 0:00:00\n"
     ]
    },
    {
     "name": "stderr",
     "output_type": "stream",
     "text": [
      "/tmp/ipykernel_4296/625558999.py:8: SettingWithCopyWarning: \n",
      "A value is trying to be set on a copy of a slice from a DataFrame.\n",
      "Try using .loc[row_indexer,col_indexer] = value instead\n",
      "\n",
      "See the caveats in the documentation: https://pandas.pydata.org/pandas-docs/stable/user_guide/indexing.html#returning-a-view-versus-a-copy\n",
      "  filtered[\"MonthEnd\"] = pd.to_datetime(filtered['Date'], format=dateFormat) + MonthEnd(0)\n"
     ]
    }
   ],
   "source": [
    "\n",
    "from pandas.tseries.offsets import MonthEnd\n",
    "\n",
    "dateFormat = '%Y-%m-%d'\n",
    "fromDate = datetime.datetime.strptime('2022-10-01', dateFormat)\n",
    "toDate = datetime.datetime.strptime('2022-10-30', dateFormat)\n",
    "print(toDate-fromDate)\n",
    "filtered = data[(data['Date'] >= fromDate) & (data['Date'] <= toDate)]\n",
    "filtered[\"MonthEnd\"] = pd.to_datetime(filtered['Date'], format=dateFormat) + MonthEnd(0)\n",
    "# filtered"
   ]
  },
  {
   "cell_type": "code",
   "execution_count": 126,
   "id": "fc903a01",
   "metadata": {},
   "outputs": [
    {
     "name": "stdout",
     "output_type": "stream",
     "text": [
      "Prediction at 1th day: 16.807411193847656\n",
      "Prediction at 2th day: 16.75152587890625\n",
      "Prediction at 3th day: 16.76523780822754\n",
      "Prediction at 4th day: 16.845470428466797\n",
      "Prediction at 5th day: 16.97271728515625\n",
      "Prediction at 6th day: 17.111000061035156\n",
      "Prediction at 7th day: 17.244230270385742\n",
      "Prediction at 8th day: 17.352252960205078\n",
      "Prediction at 9th day: 17.42245101928711\n",
      "Prediction at 10th day: 17.47774887084961\n",
      "Prediction at 11th day: 17.53265953063965\n",
      "Prediction at 12th day: 17.602428436279297\n",
      "Prediction at 13th day: 17.68949317932129\n",
      "Prediction at 14th day: 17.78119659423828\n",
      "Prediction at 15th day: 17.865293502807617\n",
      "Prediction at 16th day: 17.944229125976562\n",
      "Prediction at 17th day: 18.024599075317383\n",
      "Prediction at 18th day: 18.113649368286133\n",
      "Prediction at 19th day: 18.213659286499023\n",
      "Prediction at 20th day: 18.315847396850586\n"
     ]
    }
   ],
   "source": [
    "# for index in filtered.index:\n",
    "#     pastValues = data['close'][]\n",
    "start = filtered.index[0] - 61\n",
    "end = start+60\n",
    "\n",
    "pastvalues = data['Close'][start:end].values.tolist()\n",
    "predicted_list = []\n",
    "\n",
    "days_to_pred = (toDate - fromDate).days\n",
    "for i in range(len(filteredList)):\n",
    "    # consider only last 60 values\n",
    "    pastvalues = pastvalues[-60 : ]\n",
    "\n",
    "    # convert to numpy array\n",
    "    pastarr = np.array(pastvalues)\n",
    "\n",
    "    reshaped = pastarr.reshape((60, 1))\n",
    "    transformed = sc.transform(reshaped)\n",
    "    reshaped2 = transformed.reshape((1, 60, 1))\n",
    "\n",
    "    # print(reshaped2.shape)\n",
    "\n",
    "    predicted = model.predict(reshaped2, verbose=0)\n",
    "    predicted = sc.inverse_transform(predicted)[0, 0]\n",
    "    print(f\"Prediction at {i+1}th day: {predicted}\")\n",
    "    predicted_list.append(predicted)\n",
    "\n",
    "    pastvalues.append(filteredList[i])\n",
    "    \n",
    "# predicted_list"
   ]
  },
  {
   "cell_type": "code",
   "execution_count": 148,
   "id": "90197be8",
   "metadata": {},
   "outputs": [
    {
     "data": {
      "text/html": [
       "<div>\n",
       "<style scoped>\n",
       "    .dataframe tbody tr th:only-of-type {\n",
       "        vertical-align: middle;\n",
       "    }\n",
       "\n",
       "    .dataframe tbody tr th {\n",
       "        vertical-align: top;\n",
       "    }\n",
       "\n",
       "    .dataframe thead th {\n",
       "        text-align: right;\n",
       "    }\n",
       "</style>\n",
       "<table border=\"1\" class=\"dataframe\">\n",
       "  <thead>\n",
       "    <tr style=\"text-align: right;\">\n",
       "      <th></th>\n",
       "      <th>Date</th>\n",
       "      <th>Actual</th>\n",
       "      <th>Predicted</th>\n",
       "    </tr>\n",
       "  </thead>\n",
       "  <tbody>\n",
       "    <tr>\n",
       "      <th>0</th>\n",
       "      <td>2022-10-03T00:00:00.000000000</td>\n",
       "      <td>17.049999</td>\n",
       "      <td>16.807411</td>\n",
       "    </tr>\n",
       "    <tr>\n",
       "      <th>1</th>\n",
       "      <td>2022-10-04T00:00:00.000000000</td>\n",
       "      <td>17.700001</td>\n",
       "      <td>16.751526</td>\n",
       "    </tr>\n",
       "    <tr>\n",
       "      <th>2</th>\n",
       "      <td>2022-10-05T00:00:00.000000000</td>\n",
       "      <td>17.639999</td>\n",
       "      <td>16.765238</td>\n",
       "    </tr>\n",
       "    <tr>\n",
       "      <th>3</th>\n",
       "      <td>2022-10-06T00:00:00.000000000</td>\n",
       "      <td>17.480000</td>\n",
       "      <td>16.845470</td>\n",
       "    </tr>\n",
       "    <tr>\n",
       "      <th>4</th>\n",
       "      <td>2022-10-07T00:00:00.000000000</td>\n",
       "      <td>17.059999</td>\n",
       "      <td>16.972717</td>\n",
       "    </tr>\n",
       "    <tr>\n",
       "      <th>5</th>\n",
       "      <td>2022-10-10T00:00:00.000000000</td>\n",
       "      <td>17.559999</td>\n",
       "      <td>17.111000</td>\n",
       "    </tr>\n",
       "    <tr>\n",
       "      <th>6</th>\n",
       "      <td>2022-10-11T00:00:00.000000000</td>\n",
       "      <td>17.129999</td>\n",
       "      <td>17.244230</td>\n",
       "    </tr>\n",
       "    <tr>\n",
       "      <th>7</th>\n",
       "      <td>2022-10-12T00:00:00.000000000</td>\n",
       "      <td>17.100000</td>\n",
       "      <td>17.352253</td>\n",
       "    </tr>\n",
       "    <tr>\n",
       "      <th>8</th>\n",
       "      <td>2022-10-13T00:00:00.000000000</td>\n",
       "      <td>18.049999</td>\n",
       "      <td>17.422451</td>\n",
       "    </tr>\n",
       "    <tr>\n",
       "      <th>9</th>\n",
       "      <td>2022-10-14T00:00:00.000000000</td>\n",
       "      <td>17.809999</td>\n",
       "      <td>17.477749</td>\n",
       "    </tr>\n",
       "    <tr>\n",
       "      <th>10</th>\n",
       "      <td>2022-10-17T00:00:00.000000000</td>\n",
       "      <td>18.160000</td>\n",
       "      <td>17.532660</td>\n",
       "    </tr>\n",
       "    <tr>\n",
       "      <th>11</th>\n",
       "      <td>2022-10-18T00:00:00.000000000</td>\n",
       "      <td>18.070000</td>\n",
       "      <td>17.602428</td>\n",
       "    </tr>\n",
       "    <tr>\n",
       "      <th>12</th>\n",
       "      <td>2022-10-19T00:00:00.000000000</td>\n",
       "      <td>17.830000</td>\n",
       "      <td>17.689493</td>\n",
       "    </tr>\n",
       "    <tr>\n",
       "      <th>13</th>\n",
       "      <td>2022-10-20T00:00:00.000000000</td>\n",
       "      <td>17.889999</td>\n",
       "      <td>17.781197</td>\n",
       "    </tr>\n",
       "    <tr>\n",
       "      <th>14</th>\n",
       "      <td>2022-10-21T00:00:00.000000000</td>\n",
       "      <td>18.299999</td>\n",
       "      <td>17.865294</td>\n",
       "    </tr>\n",
       "    <tr>\n",
       "      <th>15</th>\n",
       "      <td>2022-10-24T00:00:00.000000000</td>\n",
       "      <td>18.440001</td>\n",
       "      <td>17.944229</td>\n",
       "    </tr>\n",
       "    <tr>\n",
       "      <th>16</th>\n",
       "      <td>2022-10-25T00:00:00.000000000</td>\n",
       "      <td>18.620001</td>\n",
       "      <td>18.024599</td>\n",
       "    </tr>\n",
       "    <tr>\n",
       "      <th>17</th>\n",
       "      <td>2022-10-26T00:00:00.000000000</td>\n",
       "      <td>18.680000</td>\n",
       "      <td>18.113649</td>\n",
       "    </tr>\n",
       "    <tr>\n",
       "      <th>18</th>\n",
       "      <td>2022-10-27T00:00:00.000000000</td>\n",
       "      <td>18.510000</td>\n",
       "      <td>18.213659</td>\n",
       "    </tr>\n",
       "    <tr>\n",
       "      <th>19</th>\n",
       "      <td>2022-10-28T00:00:00.000000000</td>\n",
       "      <td>18.790001</td>\n",
       "      <td>18.315847</td>\n",
       "    </tr>\n",
       "  </tbody>\n",
       "</table>\n",
       "</div>"
      ],
      "text/plain": [
       "                             Date     Actual  Predicted\n",
       "0   2022-10-03T00:00:00.000000000  17.049999  16.807411\n",
       "1   2022-10-04T00:00:00.000000000  17.700001  16.751526\n",
       "2   2022-10-05T00:00:00.000000000  17.639999  16.765238\n",
       "3   2022-10-06T00:00:00.000000000  17.480000  16.845470\n",
       "4   2022-10-07T00:00:00.000000000  17.059999  16.972717\n",
       "5   2022-10-10T00:00:00.000000000  17.559999  17.111000\n",
       "6   2022-10-11T00:00:00.000000000  17.129999  17.244230\n",
       "7   2022-10-12T00:00:00.000000000  17.100000  17.352253\n",
       "8   2022-10-13T00:00:00.000000000  18.049999  17.422451\n",
       "9   2022-10-14T00:00:00.000000000  17.809999  17.477749\n",
       "10  2022-10-17T00:00:00.000000000  18.160000  17.532660\n",
       "11  2022-10-18T00:00:00.000000000  18.070000  17.602428\n",
       "12  2022-10-19T00:00:00.000000000  17.830000  17.689493\n",
       "13  2022-10-20T00:00:00.000000000  17.889999  17.781197\n",
       "14  2022-10-21T00:00:00.000000000  18.299999  17.865294\n",
       "15  2022-10-24T00:00:00.000000000  18.440001  17.944229\n",
       "16  2022-10-25T00:00:00.000000000  18.620001  18.024599\n",
       "17  2022-10-26T00:00:00.000000000  18.680000  18.113649\n",
       "18  2022-10-27T00:00:00.000000000  18.510000  18.213659\n",
       "19  2022-10-28T00:00:00.000000000  18.790001  18.315847"
      ]
     },
     "execution_count": 148,
     "metadata": {},
     "output_type": "execute_result"
    }
   ],
   "source": [
    "table = {\n",
    "    'Date': filtered['Date'].values.astype(str),\n",
    "    'Actual': filtered['Close'].values,\n",
    "    'Predicted': predicted_list\n",
    "}\n",
    "tmp = pd.DataFrame(table)\n",
    "tmp"
   ]
  },
  {
   "cell_type": "code",
   "execution_count": 169,
   "id": "823dd90f",
   "metadata": {},
   "outputs": [
    {
     "data": {
      "text/plain": [
       "'01-10-2022'"
      ]
     },
     "execution_count": 169,
     "metadata": {},
     "output_type": "execute_result"
    }
   ],
   "source": [
    "fromDate.strftime('%d-%m-%Y')"
   ]
  },
  {
   "cell_type": "code",
   "execution_count": null,
   "id": "615c284f",
   "metadata": {},
   "outputs": [],
   "source": []
  },
  {
   "cell_type": "code",
   "execution_count": null,
   "id": "89047e40",
   "metadata": {},
   "outputs": [],
   "source": []
  },
  {
   "cell_type": "code",
   "execution_count": null,
   "id": "442925b6",
   "metadata": {},
   "outputs": [],
   "source": []
  },
  {
   "cell_type": "code",
   "execution_count": null,
   "id": "d26b497b",
   "metadata": {},
   "outputs": [],
   "source": []
  },
  {
   "cell_type": "code",
   "execution_count": null,
   "id": "89e7febb",
   "metadata": {},
   "outputs": [],
   "source": []
  },
  {
   "cell_type": "code",
   "execution_count": null,
   "id": "3bd97ed3",
   "metadata": {},
   "outputs": [],
   "source": []
  }
 ],
 "metadata": {
  "kernelspec": {
   "display_name": "Python 3 (ipykernel)",
   "language": "python",
   "name": "python3"
  },
  "language_info": {
   "codemirror_mode": {
    "name": "ipython",
    "version": 3
   },
   "file_extension": ".py",
   "mimetype": "text/x-python",
   "name": "python",
   "nbconvert_exporter": "python",
   "pygments_lexer": "ipython3",
   "version": "3.10.6"
  }
 },
 "nbformat": 4,
 "nbformat_minor": 5
}
