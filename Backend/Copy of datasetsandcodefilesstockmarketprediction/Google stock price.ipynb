{
 "cells": [
  {
   "cell_type": "code",
   "execution_count": 4,
   "metadata": {},
   "outputs": [],
   "source": [
    "import os\n",
    "os.environ['TF_CPP_MIN_LOG_LEVEL'] = '2'"
   ]
  },
  {
   "cell_type": "code",
   "execution_count": 5,
   "metadata": {},
   "outputs": [],
   "source": [
    "import numpy as np \n",
    "import pandas as pd \n",
    "import matplotlib.pyplot as plt \n",
    "from sklearn.preprocessing import MinMaxScaler\n",
    "from keras.models import Sequential\n",
    "from keras.layers import Dense,LSTM,Dropout"
   ]
  },
  {
   "cell_type": "code",
   "execution_count": 6,
   "metadata": {},
   "outputs": [
    {
     "data": {
      "text/html": [
       "<div>\n",
       "<style scoped>\n",
       "    .dataframe tbody tr th:only-of-type {\n",
       "        vertical-align: middle;\n",
       "    }\n",
       "\n",
       "    .dataframe tbody tr th {\n",
       "        vertical-align: top;\n",
       "    }\n",
       "\n",
       "    .dataframe thead th {\n",
       "        text-align: right;\n",
       "    }\n",
       "</style>\n",
       "<table border=\"1\" class=\"dataframe\">\n",
       "  <thead>\n",
       "    <tr style=\"text-align: right;\">\n",
       "      <th></th>\n",
       "      <th>Date</th>\n",
       "      <th>Open</th>\n",
       "      <th>High</th>\n",
       "      <th>Low</th>\n",
       "      <th>Close</th>\n",
       "      <th>Volume</th>\n",
       "    </tr>\n",
       "  </thead>\n",
       "  <tbody>\n",
       "    <tr>\n",
       "      <th>0</th>\n",
       "      <td>1/3/2012</td>\n",
       "      <td>325.25</td>\n",
       "      <td>332.83</td>\n",
       "      <td>324.97</td>\n",
       "      <td>663.59</td>\n",
       "      <td>7,380,500</td>\n",
       "    </tr>\n",
       "    <tr>\n",
       "      <th>1</th>\n",
       "      <td>1/4/2012</td>\n",
       "      <td>331.27</td>\n",
       "      <td>333.87</td>\n",
       "      <td>329.08</td>\n",
       "      <td>666.45</td>\n",
       "      <td>5,749,400</td>\n",
       "    </tr>\n",
       "    <tr>\n",
       "      <th>2</th>\n",
       "      <td>1/5/2012</td>\n",
       "      <td>329.83</td>\n",
       "      <td>330.75</td>\n",
       "      <td>326.89</td>\n",
       "      <td>657.21</td>\n",
       "      <td>6,590,300</td>\n",
       "    </tr>\n",
       "    <tr>\n",
       "      <th>3</th>\n",
       "      <td>1/6/2012</td>\n",
       "      <td>328.34</td>\n",
       "      <td>328.77</td>\n",
       "      <td>323.68</td>\n",
       "      <td>648.24</td>\n",
       "      <td>5,405,900</td>\n",
       "    </tr>\n",
       "    <tr>\n",
       "      <th>4</th>\n",
       "      <td>1/9/2012</td>\n",
       "      <td>322.04</td>\n",
       "      <td>322.29</td>\n",
       "      <td>309.46</td>\n",
       "      <td>620.76</td>\n",
       "      <td>11,688,800</td>\n",
       "    </tr>\n",
       "  </tbody>\n",
       "</table>\n",
       "</div>"
      ],
      "text/plain": [
       "       Date    Open    High     Low   Close      Volume\n",
       "0  1/3/2012  325.25  332.83  324.97  663.59   7,380,500\n",
       "1  1/4/2012  331.27  333.87  329.08  666.45   5,749,400\n",
       "2  1/5/2012  329.83  330.75  326.89  657.21   6,590,300\n",
       "3  1/6/2012  328.34  328.77  323.68  648.24   5,405,900\n",
       "4  1/9/2012  322.04  322.29  309.46  620.76  11,688,800"
      ]
     },
     "execution_count": 6,
     "metadata": {},
     "output_type": "execute_result"
    }
   ],
   "source": [
    "data = pd.read_csv('Google_train_data.csv')\n",
    "data.head()"
   ]
  },
  {
   "cell_type": "code",
   "execution_count": 7,
   "metadata": {},
   "outputs": [
    {
     "name": "stdout",
     "output_type": "stream",
     "text": [
      "<class 'pandas.core.frame.DataFrame'>\n",
      "RangeIndex: 1258 entries, 0 to 1257\n",
      "Data columns (total 6 columns):\n",
      " #   Column  Non-Null Count  Dtype  \n",
      "---  ------  --------------  -----  \n",
      " 0   Date    1258 non-null   object \n",
      " 1   Open    1258 non-null   float64\n",
      " 2   High    1258 non-null   float64\n",
      " 3   Low     1258 non-null   float64\n",
      " 4   Close   1258 non-null   object \n",
      " 5   Volume  1258 non-null   object \n",
      "dtypes: float64(3), object(3)\n",
      "memory usage: 59.1+ KB\n"
     ]
    }
   ],
   "source": [
    "data.info()"
   ]
  },
  {
   "cell_type": "code",
   "execution_count": 8,
   "metadata": {},
   "outputs": [],
   "source": [
    "data[\"Close\"]=pd.to_numeric(data.Close,errors='coerce')\n",
    "data = data.dropna()\n",
    "trainData = data.iloc[:,4:5].values"
   ]
  },
  {
   "cell_type": "code",
   "execution_count": 9,
   "metadata": {},
   "outputs": [
    {
     "name": "stdout",
     "output_type": "stream",
     "text": [
      "<class 'pandas.core.frame.DataFrame'>\n",
      "Int64Index: 1149 entries, 0 to 1257\n",
      "Data columns (total 6 columns):\n",
      " #   Column  Non-Null Count  Dtype  \n",
      "---  ------  --------------  -----  \n",
      " 0   Date    1149 non-null   object \n",
      " 1   Open    1149 non-null   float64\n",
      " 2   High    1149 non-null   float64\n",
      " 3   Low     1149 non-null   float64\n",
      " 4   Close   1149 non-null   float64\n",
      " 5   Volume  1149 non-null   object \n",
      "dtypes: float64(4), object(2)\n",
      "memory usage: 62.8+ KB\n"
     ]
    }
   ],
   "source": [
    "data.info()"
   ]
  },
  {
   "cell_type": "code",
   "execution_count": 10,
   "metadata": {},
   "outputs": [
    {
     "data": {
      "text/plain": [
       "(1149, 1)"
      ]
     },
     "execution_count": 10,
     "metadata": {},
     "output_type": "execute_result"
    }
   ],
   "source": [
    "sc = MinMaxScaler(feature_range=(0,1))\n",
    "trainData = sc.fit_transform(trainData)\n",
    "trainData.shape"
   ]
  },
  {
   "cell_type": "code",
   "execution_count": 11,
   "metadata": {},
   "outputs": [],
   "source": [
    "X_train = []\n",
    "y_train = []\n",
    "\n",
    "for i in range (60,1149): #60 : timestep // 1149 : length of the data\n",
    "    X_train.append(trainData[i-60:i,0]) \n",
    "    y_train.append(trainData[i,0])\n",
    "\n",
    "X_train,y_train = np.array(X_train),np.array(y_train)"
   ]
  },
  {
   "cell_type": "code",
   "execution_count": 12,
   "metadata": {},
   "outputs": [
    {
     "data": {
      "text/plain": [
       "(1089, 60, 1)"
      ]
     },
     "execution_count": 12,
     "metadata": {},
     "output_type": "execute_result"
    }
   ],
   "source": [
    "X_train = np.reshape(X_train,(X_train.shape[0],X_train.shape[1],1)) #adding the batch_size axis\n",
    "X_train.shape"
   ]
  },
  {
   "cell_type": "code",
   "execution_count": 13,
   "metadata": {},
   "outputs": [],
   "source": [
    "model = Sequential()\n",
    "\n",
    "model.add(LSTM(units=100, return_sequences = True, input_shape =(X_train.shape[1],1)))\n",
    "model.add(Dropout(0.2))\n",
    "\n",
    "model.add(LSTM(units=100, return_sequences = True))\n",
    "model.add(Dropout(0.2))\n",
    "\n",
    "model.add(LSTM(units=100, return_sequences = True))\n",
    "model.add(Dropout(0.2))\n",
    "\n",
    "model.add(LSTM(units=100, return_sequences = False))\n",
    "model.add(Dropout(0.2))\n",
    "\n",
    "model.add(Dense(units =1))\n",
    "model.compile(optimizer='adam',loss=\"mean_squared_error\")"
   ]
  },
  {
   "cell_type": "code",
   "execution_count": 14,
   "metadata": {},
   "outputs": [
    {
     "name": "stdout",
     "output_type": "stream",
     "text": [
      "Epoch 1/20\n",
      "35/35 - 9s - loss: 0.0366 - 9s/epoch - 244ms/step\n",
      "Epoch 2/20\n",
      "35/35 - 4s - loss: 0.0141 - 4s/epoch - 113ms/step\n",
      "Epoch 3/20\n",
      "35/35 - 4s - loss: 0.0100 - 4s/epoch - 112ms/step\n",
      "Epoch 4/20\n",
      "35/35 - 4s - loss: 0.0082 - 4s/epoch - 112ms/step\n",
      "Epoch 5/20\n",
      "35/35 - 4s - loss: 0.0098 - 4s/epoch - 122ms/step\n",
      "Epoch 6/20\n",
      "35/35 - 4s - loss: 0.0082 - 4s/epoch - 125ms/step\n",
      "Epoch 7/20\n",
      "35/35 - 4s - loss: 0.0076 - 4s/epoch - 127ms/step\n",
      "Epoch 8/20\n",
      "35/35 - 4s - loss: 0.0091 - 4s/epoch - 128ms/step\n",
      "Epoch 9/20\n",
      "35/35 - 5s - loss: 0.0064 - 5s/epoch - 137ms/step\n",
      "Epoch 10/20\n",
      "35/35 - 5s - loss: 0.0060 - 5s/epoch - 132ms/step\n",
      "Epoch 11/20\n",
      "35/35 - 5s - loss: 0.0060 - 5s/epoch - 135ms/step\n",
      "Epoch 12/20\n",
      "35/35 - 5s - loss: 0.0055 - 5s/epoch - 136ms/step\n",
      "Epoch 13/20\n",
      "35/35 - 4s - loss: 0.0052 - 4s/epoch - 116ms/step\n",
      "Epoch 14/20\n",
      "35/35 - 4s - loss: 0.0064 - 4s/epoch - 117ms/step\n",
      "Epoch 15/20\n",
      "35/35 - 4s - loss: 0.0054 - 4s/epoch - 116ms/step\n",
      "Epoch 16/20\n",
      "35/35 - 4s - loss: 0.0054 - 4s/epoch - 119ms/step\n",
      "Epoch 17/20\n",
      "35/35 - 4s - loss: 0.0076 - 4s/epoch - 119ms/step\n",
      "Epoch 18/20\n",
      "35/35 - 4s - loss: 0.0050 - 4s/epoch - 117ms/step\n",
      "Epoch 19/20\n",
      "35/35 - 4s - loss: 0.0047 - 4s/epoch - 118ms/step\n",
      "Epoch 20/20\n",
      "35/35 - 4s - loss: 0.0045 - 4s/epoch - 117ms/step\n"
     ]
    }
   ],
   "source": [
    "hist = model.fit(X_train, y_train, epochs = 20, batch_size = 32, verbose=2)"
   ]
  },
  {
   "cell_type": "code",
   "execution_count": 15,
   "metadata": {},
   "outputs": [
    {
     "data": {
      "image/png": "[encoded data removed]",
      "text/plain": [
       "<Figure size 640x480 with 1 Axes>"
      ]
     },
     "metadata": {},
     "output_type": "display_data"
    }
   ],
   "source": [
    "plt.plot(hist.history['loss'])\n",
    "plt.title('Training model loss')\n",
    "plt.ylabel('loss')\n",
    "plt.xlabel('epoch')\n",
    "plt.legend(['train'], loc='upper left')\n",
    "plt.show()"
   ]
  },
  {
   "cell_type": "code",
   "execution_count": 16,
   "metadata": {},
   "outputs": [
    {
     "data": {
      "text/plain": [
       "(192, 60, 1)"
      ]
     },
     "execution_count": 16,
     "metadata": {},
     "output_type": "execute_result"
    }
   ],
   "source": [
    "testData = pd.read_csv('Google_test_data.csv')\n",
    "testData[\"Close\"]=pd.to_numeric(testData.Close,errors='coerce')\n",
    "testData = testData.dropna()\n",
    "testData = testData.iloc[:,4:5]\n",
    "y_test = testData.iloc[60:,0:].values \n",
    "#input array for the model\n",
    "inputClosing = testData.iloc[:,0:].values \n",
    "inputClosing_scaled = sc.transform(inputClosing)\n",
    "inputClosing_scaled.shape\n",
    "X_test = []\n",
    "length = len(testData)\n",
    "timestep = 60\n",
    "for i in range(timestep,length):  \n",
    "    X_test.append(inputClosing_scaled[i-timestep:i,0])\n",
    "X_test = np.array(X_test)\n",
    "X_test = np.reshape(X_test,(X_test.shape[0],X_test.shape[1],1))\n",
    "X_test.shape"
   ]
  },
  {
   "cell_type": "code",
   "execution_count": 17,
   "metadata": {
    "scrolled": true
   },
   "outputs": [
    {
     "name": "stdout",
     "output_type": "stream",
     "text": [
      "6/6 [==============================] - 1s 36ms/step\n"
     ]
    },
    {
     "data": {
      "text/plain": [
       "array([[1.1158755],\n",
       "       [1.1201903],\n",
       "       [1.1325547],\n",
       "       [1.1511879],\n",
       "       [1.1682018],\n",
       "       [1.1732256],\n",
       "       [1.1645154],\n",
       "       [1.1480885],\n",
       "       [1.1346107],\n",
       "       [1.1281108],\n",
       "       [1.1198598],\n",
       "       [1.1081557],\n",
       "       [1.0971106],\n",
       "       [1.0868429],\n",
       "       [1.0830417],\n",
       "       [1.0861079],\n",
       "       [1.1024475],\n",
       "       [1.1305264],\n",
       "       [1.1649873],\n",
       "       [1.2010671],\n",
       "       [1.2210827],\n",
       "       [1.2239541],\n",
       "       [1.2075505],\n",
       "       [1.1785408],\n",
       "       [1.148273 ],\n",
       "       [1.126591 ],\n",
       "       [1.1162869],\n",
       "       [1.1117535],\n",
       "       [1.1039551],\n",
       "       [1.0934558],\n",
       "       [1.0817562],\n",
       "       [1.0684536],\n",
       "       [1.0492069],\n",
       "       [1.0249993],\n",
       "       [1.0123112],\n",
       "       [1.017873 ],\n",
       "       [1.0377222],\n",
       "       [1.063969 ],\n",
       "       [1.0913683],\n",
       "       [1.1094542],\n",
       "       [1.1258825],\n",
       "       [1.143253 ],\n",
       "       [1.1621052],\n",
       "       [1.17977  ],\n",
       "       [1.1924838],\n",
       "       [1.1957996],\n",
       "       [1.1873357],\n",
       "       [1.176915 ],\n",
       "       [1.1708934],\n",
       "       [1.1725625],\n",
       "       [1.1822641],\n",
       "       [1.190696 ],\n",
       "       [1.1942935],\n",
       "       [1.1925262],\n",
       "       [1.1906686],\n",
       "       [1.1866553],\n",
       "       [1.1782292],\n",
       "       [1.1724776],\n",
       "       [1.1781478],\n",
       "       [1.1938618],\n",
       "       [1.2190433],\n",
       "       [1.2512423],\n",
       "       [1.2773668],\n",
       "       [1.2872368],\n",
       "       [1.279924 ],\n",
       "       [1.2610133],\n",
       "       [1.2436295],\n",
       "       [1.233636 ],\n",
       "       [1.2318865],\n",
       "       [1.2342979],\n",
       "       [1.238693 ],\n",
       "       [1.2422906],\n",
       "       [1.2402251],\n",
       "       [1.2354558],\n",
       "       [1.2304918],\n",
       "       [1.228125 ],\n",
       "       [1.2291088],\n",
       "       [1.2334553],\n",
       "       [1.244457 ],\n",
       "       [1.2620975],\n",
       "       [1.2858064],\n",
       "       [1.3101904],\n",
       "       [1.3268558],\n",
       "       [1.3327053],\n",
       "       [1.3369297],\n",
       "       [1.34721  ],\n",
       "       [1.3631506],\n",
       "       [1.3786237],\n",
       "       [1.3889434],\n",
       "       [1.3924845],\n",
       "       [1.3936031],\n",
       "       [1.4003634],\n",
       "       [1.4148166],\n",
       "       [1.4268035],\n",
       "       [1.4282098],\n",
       "       [1.4169315],\n",
       "       [1.3944868],\n",
       "       [1.3660506],\n",
       "       [1.3393881],\n",
       "       [1.3245932],\n",
       "       [1.3249252],\n",
       "       [1.3382883],\n",
       "       [1.3608097],\n",
       "       [1.3842093],\n",
       "       [1.4019493],\n",
       "       [1.4100721],\n",
       "       [1.4105526],\n",
       "       [1.4070759],\n",
       "       [1.4056314],\n",
       "       [1.4085064],\n",
       "       [1.4160092],\n",
       "       [1.4279959],\n",
       "       [1.4415356],\n",
       "       [1.4564434],\n",
       "       [1.4743736],\n",
       "       [1.4906102],\n",
       "       [1.5035383],\n",
       "       [1.5140632],\n",
       "       [1.525634 ],\n",
       "       [1.5118983],\n",
       "       [1.4671633],\n",
       "       [1.4032681],\n",
       "       [1.3431774],\n",
       "       [1.3013765],\n",
       "       [1.2783511],\n",
       "       [1.2692893],\n",
       "       [1.2688413],\n",
       "       [1.2738732],\n",
       "       [1.2745732],\n",
       "       [1.26646  ],\n",
       "       [1.2623063],\n",
       "       [1.2707963],\n",
       "       [1.287168 ],\n",
       "       [1.2999274],\n",
       "       [1.3069862],\n",
       "       [1.3095753],\n",
       "       [1.307079 ],\n",
       "       [1.2993224],\n",
       "       [1.2887293],\n",
       "       [1.274132 ],\n",
       "       [1.257974 ],\n",
       "       [1.2401767],\n",
       "       [1.207976 ],\n",
       "       [1.1674944],\n",
       "       [1.1259332],\n",
       "       [1.0911386],\n",
       "       [1.0723169],\n",
       "       [1.0739398],\n",
       "       [1.0921602],\n",
       "       [1.1190517],\n",
       "       [1.149363 ],\n",
       "       [1.177178 ],\n",
       "       [1.2001228],\n",
       "       [1.219198 ],\n",
       "       [1.2339493],\n",
       "       [1.2457429],\n",
       "       [1.2568748],\n",
       "       [1.2656142],\n",
       "       [1.2640848],\n",
       "       [1.2503573],\n",
       "       [1.2276764],\n",
       "       [1.2030764],\n",
       "       [1.1857406],\n",
       "       [1.1816108],\n",
       "       [1.1917613],\n",
       "       [1.2136531],\n",
       "       [1.2374271],\n",
       "       [1.2580553],\n",
       "       [1.2762778],\n",
       "       [1.2923793],\n",
       "       [1.305464 ],\n",
       "       [1.3156546],\n",
       "       [1.3232431],\n",
       "       [1.3262956],\n",
       "       [1.3246486],\n",
       "       [1.3157393],\n",
       "       [1.3031323],\n",
       "       [1.2923324],\n",
       "       [1.2839022],\n",
       "       [1.2765849],\n",
       "       [1.2972978],\n",
       "       [1.344786 ],\n",
       "       [1.4012264],\n",
       "       [1.4480264],\n",
       "       [1.4741004],\n",
       "       [1.4753919],\n",
       "       [1.4475566],\n",
       "       [1.404881 ],\n",
       "       [1.3622283],\n",
       "       [1.3362241],\n",
       "       [1.3263322],\n",
       "       [1.3247879]], dtype=float32)"
      ]
     },
     "execution_count": 17,
     "metadata": {},
     "output_type": "execute_result"
    }
   ],
   "source": [
    "y_pred = model.predict(X_test)\n",
    "y_pred"
   ]
  },
  {
   "cell_type": "code",
   "execution_count": 18,
   "metadata": {},
   "outputs": [],
   "source": [
    "predicted_price = sc.inverse_transform(y_pred)"
   ]
  },
  {
   "cell_type": "code",
   "execution_count": 21,
   "metadata": {},
   "outputs": [
    {
     "data": {
      "image/png": "[encoded data removed]",
      "text/plain": [
       "<Figure size 640x480 with 1 Axes>"
      ]
     },
     "metadata": {},
     "output_type": "display_data"
    }
   ],
   "source": [
    "plt.plot(y_test, color = 'red', label = 'Actual Stock Price')\n",
    "plt.plot(predicted_price, color = 'green', label = 'Predicted Stock Price')\n",
    "plt.title('Google stock price prediction')\n",
    "plt.xlabel('Time')\n",
    "plt.ylabel('Stock Price')\n",
    "plt.legend()\n",
    "plt.show()"
   ]
  },
  {
   "cell_type": "code",
   "execution_count": null,
   "metadata": {},
   "outputs": [],
   "source": []
  }
 ],
 "metadata": {
  "kernelspec": {
   "display_name": "Python 3 (ipykernel)",
   "language": "python",
   "name": "python3"
  },
  "language_info": {
   "codemirror_mode": {
    "name": "ipython",
    "version": 3
   },
   "file_extension": ".py",
   "mimetype": "text/x-python",
   "name": "python",
   "nbconvert_exporter": "python",
   "pygments_lexer": "ipython3",
   "version": "3.10.6"
  }
 },
 "nbformat": 4,
 "nbformat_minor": 4
}
