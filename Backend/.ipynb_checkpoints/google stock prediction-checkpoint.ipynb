{
 "cells": [
  {
   "cell_type": "code",
   "execution_count": 1,
   "id": "332592e0",
   "metadata": {},
   "outputs": [],
   "source": [
    "import os\n",
    "os.environ['TF_CPP_MIN_LOG_LEVEL'] = '2'"
   ]
  },
  {
   "cell_type": "code",
   "execution_count": 2,
   "id": "9729061c",
   "metadata": {},
   "outputs": [
    {
     "name": "stderr",
     "output_type": "stream",
     "text": [
      "2022-11-06 14:41:20.877156: E tensorflow/stream_executor/cuda/cuda_blas.cc:2981] Unable to register cuBLAS factory: Attempting to register factory for plugin cuBLAS when one has already been registered\n"
     ]
    }
   ],
   "source": [
    "import numpy as np \n",
    "import pandas as pd \n",
    "import matplotlib.pyplot as plt \n",
    "from sklearn.preprocessing import MinMaxScaler\n",
    "from sklearn.model_selection import train_test_split\n",
    "from keras.models import Sequential\n",
    "from keras.layers import Dense,LSTM,Dropout"
   ]
  },
  {
   "cell_type": "code",
   "execution_count": 31,
   "id": "6dccc5dc",
   "metadata": {},
   "outputs": [
    {
     "data": {
      "text/plain": [
       "((3866, 8), (430, 8))"
      ]
     },
     "execution_count": 31,
     "metadata": {},
     "output_type": "execute_result"
    }
   ],
   "source": [
    "data = pd.read_csv('datasets/GoogleStockPrices.csv')\n",
    "data = data.dropna()\n",
    "train, test = train_test_split(data, test_size=0.05)\n",
    "train.shape, test.shape"
   ]
  },
  {
   "cell_type": "code",
   "execution_count": 32,
   "id": "81f6ec0b",
   "metadata": {},
   "outputs": [
    {
     "name": "stdout",
     "output_type": "stream",
     "text": [
      "<class 'pandas.core.frame.DataFrame'>\n",
      "RangeIndex: 4296 entries, 0 to 4295\n",
      "Data columns (total 8 columns):\n",
      " #   Column        Non-Null Count  Dtype  \n",
      "---  ------        --------------  -----  \n",
      " 0   Date          4296 non-null   object \n",
      " 1   Open          4296 non-null   float64\n",
      " 2   High          4296 non-null   float64\n",
      " 3   Low           4296 non-null   float64\n",
      " 4   Close         4296 non-null   float64\n",
      " 5   Volume        4296 non-null   int64  \n",
      " 6   Dividends     4296 non-null   int64  \n",
      " 7   Stock Splits  4296 non-null   float64\n",
      "dtypes: float64(5), int64(2), object(1)\n",
      "memory usage: 268.6+ KB\n"
     ]
    }
   ],
   "source": [
    "data.info()"
   ]
  },
  {
   "cell_type": "code",
   "execution_count": 33,
   "id": "aa4616ae",
   "metadata": {},
   "outputs": [
    {
     "data": {
      "text/plain": [
       "(3866, 1)"
      ]
     },
     "execution_count": 33,
     "metadata": {},
     "output_type": "execute_result"
    }
   ],
   "source": [
    "trainData = train.iloc[:,4:5].values\n",
    "sc = MinMaxScaler(feature_range=(0,1))\n",
    "trainData = sc.fit_transform(trainData)\n",
    "trainData.shape"
   ]
  },
  {
   "cell_type": "code",
   "execution_count": 34,
   "id": "219bac08",
   "metadata": {},
   "outputs": [],
   "source": [
    "X_train = []\n",
    "y_train = []\n",
    "\n",
    "for i in range (60,1149): #60 : timestep // 1149 : length of the data\n",
    "    X_train.append(trainData[i-60:i,0]) \n",
    "    y_train.append(trainData[i,0])\n",
    "\n",
    "X_train,y_train = np.array(X_train),np.array(y_train)"
   ]
  },
  {
   "cell_type": "code",
   "execution_count": 35,
   "id": "9e2811f6",
   "metadata": {},
   "outputs": [
    {
     "data": {
      "text/plain": [
       "(1089, 60, 1)"
      ]
     },
     "execution_count": 35,
     "metadata": {},
     "output_type": "execute_result"
    }
   ],
   "source": [
    "X_train = np.reshape(X_train,(X_train.shape[0],X_train.shape[1],1)) #adding the batch_size axis\n",
    "X_train.shape"
   ]
  },
  {
   "cell_type": "code",
   "execution_count": 36,
   "id": "b259364d",
   "metadata": {},
   "outputs": [],
   "source": [
    "model = Sequential()\n",
    "\n",
    "model.add(LSTM(units=100, return_sequences = True, input_shape =(X_train.shape[1],1)))\n",
    "model.add(Dropout(0.2))\n",
    "\n",
    "model.add(LSTM(units=100, return_sequences = True))\n",
    "model.add(Dropout(0.2))\n",
    "\n",
    "model.add(LSTM(units=100, return_sequences = True))\n",
    "model.add(Dropout(0.2))\n",
    "\n",
    "model.add(LSTM(units=100, return_sequences = False))\n",
    "model.add(Dropout(0.2))\n",
    "\n",
    "model.add(Dense(units =1))\n",
    "model.compile(optimizer='adam',loss=\"mean_squared_error\")"
   ]
  },
  {
   "cell_type": "code",
   "execution_count": 37,
   "id": "886cbf35",
   "metadata": {},
   "outputs": [
    {
     "name": "stdout",
     "output_type": "stream",
     "text": [
      "Epoch 1/20\n",
      "35/35 - 9s - loss: 0.0374 - 9s/epoch - 252ms/step\n",
      "Epoch 2/20\n",
      "35/35 - 4s - loss: 0.0346 - 4s/epoch - 120ms/step\n",
      "Epoch 3/20\n",
      "35/35 - 4s - loss: 0.0347 - 4s/epoch - 121ms/step\n",
      "Epoch 4/20\n",
      "35/35 - 4s - loss: 0.0346 - 4s/epoch - 120ms/step\n",
      "Epoch 5/20\n",
      "35/35 - 4s - loss: 0.0344 - 4s/epoch - 121ms/step\n",
      "Epoch 6/20\n",
      "35/35 - 4s - loss: 0.0338 - 4s/epoch - 127ms/step\n",
      "Epoch 7/20\n",
      "35/35 - 4s - loss: 0.0344 - 4s/epoch - 128ms/step\n",
      "Epoch 8/20\n",
      "35/35 - 4s - loss: 0.0341 - 4s/epoch - 127ms/step\n",
      "Epoch 9/20\n",
      "35/35 - 4s - loss: 0.0337 - 4s/epoch - 121ms/step\n",
      "Epoch 10/20\n",
      "35/35 - 4s - loss: 0.0342 - 4s/epoch - 123ms/step\n",
      "Epoch 11/20\n",
      "35/35 - 4s - loss: 0.0338 - 4s/epoch - 122ms/step\n",
      "Epoch 12/20\n",
      "35/35 - 4s - loss: 0.0340 - 4s/epoch - 121ms/step\n",
      "Epoch 13/20\n",
      "35/35 - 4s - loss: 0.0339 - 4s/epoch - 121ms/step\n",
      "Epoch 14/20\n",
      "35/35 - 4s - loss: 0.0340 - 4s/epoch - 121ms/step\n",
      "Epoch 15/20\n",
      "35/35 - 4s - loss: 0.0344 - 4s/epoch - 122ms/step\n",
      "Epoch 16/20\n",
      "35/35 - 4s - loss: 0.0339 - 4s/epoch - 120ms/step\n",
      "Epoch 17/20\n",
      "35/35 - 4s - loss: 0.0342 - 4s/epoch - 120ms/step\n",
      "Epoch 18/20\n",
      "35/35 - 4s - loss: 0.0339 - 4s/epoch - 121ms/step\n",
      "Epoch 19/20\n",
      "35/35 - 4s - loss: 0.0338 - 4s/epoch - 122ms/step\n",
      "Epoch 20/20\n",
      "35/35 - 4s - loss: 0.0337 - 4s/epoch - 121ms/step\n"
     ]
    }
   ],
   "source": [
    "hist = model.fit(X_train, y_train, epochs = 20, batch_size = 32, verbose=2)"
   ]
  },
  {
   "cell_type": "code",
   "execution_count": 38,
   "id": "1048f36c",
   "metadata": {},
   "outputs": [
    {
     "data": {
      "image/png": "[encoded data removed]",
      "text/plain": [
       "<Figure size 640x480 with 1 Axes>"
      ]
     },
     "metadata": {},
     "output_type": "display_data"
    }
   ],
   "source": [
    "plt.plot(hist.history['loss'])\n",
    "plt.title('Training model loss')\n",
    "plt.ylabel('loss')\n",
    "plt.xlabel('epoch')\n",
    "plt.legend(['train'], loc='upper right')\n",
    "plt.show()"
   ]
  },
  {
   "cell_type": "code",
   "execution_count": 39,
   "id": "575aa0d3",
   "metadata": {},
   "outputs": [
    {
     "data": {
      "text/plain": [
       "(370, 60, 1)"
      ]
     },
     "execution_count": 39,
     "metadata": {},
     "output_type": "execute_result"
    }
   ],
   "source": [
    "testData = test\n",
    "testData = testData.iloc[:,4:5]\n",
    "y_test = testData.iloc[60:,0:].values \n",
    "#input array for the model\n",
    "inputClosing = testData.iloc[:,0:].values \n",
    "inputClosing_scaled = sc.transform(inputClosing)\n",
    "inputClosing_scaled.shape\n",
    "X_test = []\n",
    "length = len(testData)\n",
    "timestep = 60\n",
    "for i in range(timestep,length):  \n",
    "    X_test.append(inputClosing_scaled[i-timestep:i,0])\n",
    "X_test = np.array(X_test)\n",
    "X_test = np.reshape(X_test,(X_test.shape[0],X_test.shape[1],1))\n",
    "X_test.shape"
   ]
  },
  {
   "cell_type": "code",
   "execution_count": 40,
   "id": "06d7b16d",
   "metadata": {},
   "outputs": [
    {
     "name": "stdout",
     "output_type": "stream",
     "text": [
      "12/12 [==============================] - 1s 35ms/step\n"
     ]
    },
    {
     "data": {
      "text/plain": [
       "(370, 1)"
      ]
     },
     "execution_count": 40,
     "metadata": {},
     "output_type": "execute_result"
    }
   ],
   "source": [
    "y_pred = model.predict(X_test)\n",
    "y_pred.shape"
   ]
  },
  {
   "cell_type": "code",
   "execution_count": 41,
   "id": "fcd82414",
   "metadata": {},
   "outputs": [
    {
     "data": {
      "text/plain": [
       "array([[597.6598 ],\n",
       "       [597.7294 ],\n",
       "       [597.6666 ],\n",
       "       [597.54034],\n",
       "       [597.4068 ],\n",
       "       [597.3127 ],\n",
       "       [597.2447 ],\n",
       "       [597.15894],\n",
       "       [597.0523 ],\n",
       "       [596.9559 ],\n",
       "       [596.914  ],\n",
       "       [596.9248 ],\n",
       "       [596.9802 ],\n",
       "       [597.07654],\n",
       "       [597.1581 ],\n",
       "       [597.1742 ],\n",
       "       [597.12585],\n",
       "       [597.0508 ],\n",
       "       [596.9802 ],\n",
       "       [596.9281 ],\n",
       "       [596.905  ],\n",
       "       [596.89667],\n",
       "       [596.87897],\n",
       "       [596.8142 ],\n",
       "       [596.7065 ],\n",
       "       [596.5971 ],\n",
       "       [596.5319 ],\n",
       "       [596.5175 ],\n",
       "       [596.5415 ],\n",
       "       [596.5506 ],\n",
       "       [596.49243],\n",
       "       [596.35315],\n",
       "       [596.1794 ],\n",
       "       [596.0226 ],\n",
       "       [595.91425],\n",
       "       [595.8803 ],\n",
       "       [595.88934],\n",
       "       [595.9252 ],\n",
       "       [595.98395],\n",
       "       [596.09076],\n",
       "       [596.2579 ],\n",
       "       [596.486  ],\n",
       "       [596.7258 ],\n",
       "       [596.9291 ],\n",
       "       [597.067  ],\n",
       "       [597.0622 ],\n",
       "       [596.866  ],\n",
       "       [596.5158 ],\n",
       "       [596.09424],\n",
       "       [595.7023 ],\n",
       "       [595.4313 ],\n",
       "       [595.3155 ],\n",
       "       [595.35913],\n",
       "       [595.5511 ],\n",
       "       [595.8305 ],\n",
       "       [596.11786],\n",
       "       [596.3653 ],\n",
       "       [596.5616 ],\n",
       "       [596.70276],\n",
       "       [596.81177],\n",
       "       [596.89044],\n",
       "       [596.9518 ],\n",
       "       [596.99896],\n",
       "       [597.03876],\n",
       "       [597.0866 ],\n",
       "       [597.16736],\n",
       "       [597.2406 ],\n",
       "       [597.2655 ],\n",
       "       [597.25   ],\n",
       "       [597.2057 ],\n",
       "       [597.1647 ],\n",
       "       [597.1335 ],\n",
       "       [597.0994 ],\n",
       "       [597.04565],\n",
       "       [596.9714 ],\n",
       "       [596.89813],\n",
       "       [596.8601 ],\n",
       "       [596.8841 ],\n",
       "       [596.97626],\n",
       "       [597.07196],\n",
       "       [597.1302 ],\n",
       "       [597.14685],\n",
       "       [597.14703],\n",
       "       [597.09784],\n",
       "       [596.9948 ],\n",
       "       [596.86084],\n",
       "       [596.71344],\n",
       "       [596.5812 ],\n",
       "       [596.4924 ],\n",
       "       [596.4772 ],\n",
       "       [596.50433],\n",
       "       [596.5526 ],\n",
       "       [596.60944],\n",
       "       [596.63824],\n",
       "       [596.6074 ],\n",
       "       [596.4855 ],\n",
       "       [596.2604 ],\n",
       "       [595.9788 ],\n",
       "       [595.7012 ],\n",
       "       [595.4987 ],\n",
       "       [595.4297 ],\n",
       "       [595.49493],\n",
       "       [595.67444],\n",
       "       [595.9402 ],\n",
       "       [596.2674 ],\n",
       "       [596.6342 ],\n",
       "       [596.9823 ],\n",
       "       [597.26996],\n",
       "       [597.46326],\n",
       "       [597.5328 ],\n",
       "       [597.4983 ],\n",
       "       [597.39856],\n",
       "       [597.28064],\n",
       "       [597.1893 ],\n",
       "       [597.13544],\n",
       "       [597.01685],\n",
       "       [596.76263],\n",
       "       [596.3416 ],\n",
       "       [595.771  ],\n",
       "       [595.1401 ],\n",
       "       [594.5858 ],\n",
       "       [594.2248 ],\n",
       "       [594.1282 ],\n",
       "       [594.3097 ],\n",
       "       [594.7362 ],\n",
       "       [595.34143],\n",
       "       [596.04333],\n",
       "       [596.74194],\n",
       "       [597.36224],\n",
       "       [597.8673 ],\n",
       "       [598.2153 ],\n",
       "       [598.40686],\n",
       "       [598.4322 ],\n",
       "       [598.2803 ],\n",
       "       [597.9518 ],\n",
       "       [597.5121 ],\n",
       "       [597.05286],\n",
       "       [596.66473],\n",
       "       [596.3713 ],\n",
       "       [596.1786 ],\n",
       "       [596.09045],\n",
       "       [596.07556],\n",
       "       [596.1182 ],\n",
       "       [596.21594],\n",
       "       [596.33136],\n",
       "       [596.4475 ],\n",
       "       [596.5284 ],\n",
       "       [596.53143],\n",
       "       [596.44446],\n",
       "       [596.309  ],\n",
       "       [596.1912 ],\n",
       "       [596.1356 ],\n",
       "       [596.1727 ],\n",
       "       [596.3172 ],\n",
       "       [596.55023],\n",
       "       [596.8418 ],\n",
       "       [597.11615],\n",
       "       [597.2294 ],\n",
       "       [597.126  ],\n",
       "       [596.864  ],\n",
       "       [596.5627 ],\n",
       "       [596.3062 ],\n",
       "       [596.13934],\n",
       "       [596.0871 ],\n",
       "       [596.1418 ],\n",
       "       [596.2751 ],\n",
       "       [596.4207 ],\n",
       "       [596.5377 ],\n",
       "       [596.6115 ],\n",
       "       [596.6483 ],\n",
       "       [596.6347 ],\n",
       "       [596.58673],\n",
       "       [596.54443],\n",
       "       [596.5479 ],\n",
       "       [596.5814 ],\n",
       "       [596.5896 ],\n",
       "       [596.5241 ],\n",
       "       [596.4036 ],\n",
       "       [596.28015],\n",
       "       [596.2156 ],\n",
       "       [596.2494 ],\n",
       "       [596.3514 ],\n",
       "       [596.47797],\n",
       "       [596.5643 ],\n",
       "       [596.58417],\n",
       "       [596.5648 ],\n",
       "       [596.55853],\n",
       "       [596.6173 ],\n",
       "       [596.72626],\n",
       "       [596.78925],\n",
       "       [596.73816],\n",
       "       [596.5919 ],\n",
       "       [596.3786 ],\n",
       "       [596.16187],\n",
       "       [596.0029 ],\n",
       "       [595.9395 ],\n",
       "       [595.97076],\n",
       "       [596.06757],\n",
       "       [596.1655 ],\n",
       "       [596.2393 ],\n",
       "       [596.27985],\n",
       "       [596.2769 ],\n",
       "       [596.2632 ],\n",
       "       [596.2794 ],\n",
       "       [596.3426 ],\n",
       "       [596.46405],\n",
       "       [596.6584 ],\n",
       "       [596.8993 ],\n",
       "       [597.11835],\n",
       "       [597.2675 ],\n",
       "       [597.334  ],\n",
       "       [597.297  ],\n",
       "       [597.1466 ],\n",
       "       [596.87384],\n",
       "       [596.538  ],\n",
       "       [596.2    ],\n",
       "       [595.93005],\n",
       "       [595.7908 ],\n",
       "       [595.8271 ],\n",
       "       [596.0414 ],\n",
       "       [596.3794 ],\n",
       "       [596.7592 ],\n",
       "       [597.12317],\n",
       "       [597.4288 ],\n",
       "       [597.6581 ],\n",
       "       [597.8037 ],\n",
       "       [597.8443 ],\n",
       "       [597.7903 ],\n",
       "       [597.682  ],\n",
       "       [597.5443 ],\n",
       "       [597.4042 ],\n",
       "       [597.2868 ],\n",
       "       [597.1894 ],\n",
       "       [597.11346],\n",
       "       [597.0239 ],\n",
       "       [596.91547],\n",
       "       [596.8025 ],\n",
       "       [596.71625],\n",
       "       [596.6795 ],\n",
       "       [596.6995 ],\n",
       "       [596.7374 ],\n",
       "       [596.7682 ],\n",
       "       [596.796  ],\n",
       "       [596.80896],\n",
       "       [596.81866],\n",
       "       [596.81445],\n",
       "       [596.74945],\n",
       "       [596.61993],\n",
       "       [596.46246],\n",
       "       [596.3242 ],\n",
       "       [596.24335],\n",
       "       [596.2403 ],\n",
       "       [596.2915 ],\n",
       "       [596.37946],\n",
       "       [596.4087 ],\n",
       "       [596.3077 ],\n",
       "       [596.05347],\n",
       "       [595.70953],\n",
       "       [595.3835 ],\n",
       "       [595.1533 ],\n",
       "       [595.0705 ],\n",
       "       [595.1183 ],\n",
       "       [595.2351 ],\n",
       "       [595.3862 ],\n",
       "       [595.5701 ],\n",
       "       [595.80145],\n",
       "       [596.07025],\n",
       "       [596.3486 ],\n",
       "       [596.5802 ],\n",
       "       [596.7454 ],\n",
       "       [596.85956],\n",
       "       [596.96686],\n",
       "       [597.10046],\n",
       "       [597.1807 ],\n",
       "       [597.1357 ],\n",
       "       [596.9761 ],\n",
       "       [596.7617 ],\n",
       "       [596.56915],\n",
       "       [596.4486 ],\n",
       "       [596.35   ],\n",
       "       [596.2476 ],\n",
       "       [596.16724],\n",
       "       [596.15436],\n",
       "       [596.23016],\n",
       "       [596.3778 ],\n",
       "       [596.56836],\n",
       "       [596.7827 ],\n",
       "       [597.0093 ],\n",
       "       [597.22125],\n",
       "       [597.3454 ],\n",
       "       [597.34485],\n",
       "       [597.2228 ],\n",
       "       [597.0052 ],\n",
       "       [596.671  ],\n",
       "       [596.2407 ],\n",
       "       [595.8055 ],\n",
       "       [595.465  ],\n",
       "       [595.24854],\n",
       "       [595.1359 ],\n",
       "       [595.10095],\n",
       "       [595.11786],\n",
       "       [595.185  ],\n",
       "       [595.3265 ],\n",
       "       [595.53937],\n",
       "       [595.8189 ],\n",
       "       [596.1672 ],\n",
       "       [596.5844 ],\n",
       "       [597.0617 ],\n",
       "       [597.5674 ],\n",
       "       [598.06274],\n",
       "       [598.50916],\n",
       "       [598.8674 ],\n",
       "       [599.11115],\n",
       "       [599.1956 ],\n",
       "       [599.1048 ],\n",
       "       [598.8538 ],\n",
       "       [598.46063],\n",
       "       [597.93   ],\n",
       "       [597.2844 ],\n",
       "       [596.6069 ],\n",
       "       [595.99896],\n",
       "       [595.53125],\n",
       "       [595.20905],\n",
       "       [595.02155],\n",
       "       [594.9363 ],\n",
       "       [594.94507],\n",
       "       [594.98944],\n",
       "       [595.04913],\n",
       "       [595.14764],\n",
       "       [595.3052 ],\n",
       "       [595.5413 ],\n",
       "       [595.86176],\n",
       "       [596.17584],\n",
       "       [596.3946 ],\n",
       "       [596.48694],\n",
       "       [596.4982 ],\n",
       "       [596.4215 ],\n",
       "       [596.27893],\n",
       "       [596.1354 ],\n",
       "       [596.0572 ],\n",
       "       [596.0733 ],\n",
       "       [596.2028 ],\n",
       "       [596.45325],\n",
       "       [596.7701 ],\n",
       "       [597.0647 ],\n",
       "       [597.2915 ],\n",
       "       [597.4423 ],\n",
       "       [597.4973 ],\n",
       "       [597.4759 ],\n",
       "       [597.42804],\n",
       "       [597.3921 ],\n",
       "       [597.3235 ],\n",
       "       [597.15295],\n",
       "       [596.8761 ],\n",
       "       [596.57056],\n",
       "       [596.3351 ],\n",
       "       [596.2289 ],\n",
       "       [596.2712 ],\n",
       "       [596.45135],\n",
       "       [596.7132 ],\n",
       "       [597.0108 ],\n",
       "       [597.3113 ],\n",
       "       [597.5479 ],\n",
       "       [597.6653 ],\n",
       "       [597.6553 ],\n",
       "       [597.50696],\n",
       "       [597.22003],\n",
       "       [596.8559 ],\n",
       "       [596.497  ],\n",
       "       [596.2253 ]], dtype=float32)"
      ]
     },
     "execution_count": 41,
     "metadata": {},
     "output_type": "execute_result"
    }
   ],
   "source": [
    "predicted_price = sc.inverse_transform(y_pred)\n",
    "predicted_price"
   ]
  },
  {
   "cell_type": "code",
   "execution_count": 43,
   "id": "42244edd",
   "metadata": {
    "scrolled": true
   },
   "outputs": [
    {
     "data": {
      "image/png": "[encoded data removed]",
      "text/plain": [
       "<Figure size 640x480 with 1 Axes>"
      ]
     },
     "metadata": {},
     "output_type": "display_data"
    }
   ],
   "source": [
    "plt.plot(y_test, color = 'red', label = 'Actual Stock Price')\n",
    "plt.plot(predicted_price, color = 'green', label = 'Predicted Stock Price')\n",
    "plt.title('Google stock price prediction')\n",
    "plt.xlabel('Time')\n",
    "plt.ylabel('Stock Price')\n",
    "plt.legend()\n",
    "plt.show()"
   ]
  },
  {
   "cell_type": "code",
   "execution_count": null,
   "id": "e666a040",
   "metadata": {},
   "outputs": [],
   "source": []
  }
 ],
 "metadata": {
  "kernelspec": {
   "display_name": "Python 3 (ipykernel)",
   "language": "python",
   "name": "python3"
  },
  "language_info": {
   "codemirror_mode": {
    "name": "ipython",
    "version": 3
   },
   "file_extension": ".py",
   "mimetype": "text/x-python",
   "name": "python",
   "nbconvert_exporter": "python",
   "pygments_lexer": "ipython3",
   "version": "3.10.6"
  }
 },
 "nbformat": 4,
 "nbformat_minor": 5
}
