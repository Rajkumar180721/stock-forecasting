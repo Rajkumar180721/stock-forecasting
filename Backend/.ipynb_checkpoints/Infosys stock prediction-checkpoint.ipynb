{
 "cells": [
  {
   "cell_type": "code",
   "execution_count": 1,
   "id": "f635d13d",
   "metadata": {},
   "outputs": [],
   "source": [
    "import os\n",
    "os.environ['TF_CPP_MIN_LOG_LEVEL'] = '2'"
   ]
  },
  {
   "cell_type": "code",
   "execution_count": 2,
   "id": "33ec4786",
   "metadata": {},
   "outputs": [
    {
     "name": "stderr",
     "output_type": "stream",
     "text": [
      "2022-11-06 15:12:53.972880: E tensorflow/stream_executor/cuda/cuda_blas.cc:2981] Unable to register cuBLAS factory: Attempting to register factory for plugin cuBLAS when one has already been registered\n"
     ]
    }
   ],
   "source": [
    "import numpy as np \n",
    "import pandas as pd \n",
    "import matplotlib.pyplot as plt \n",
    "from sklearn.preprocessing import MinMaxScaler\n",
    "from sklearn.model_selection import train_test_split\n",
    "from keras.models import Sequential\n",
    "from keras.layers import Dense,LSTM,Dropout"
   ]
  },
  {
   "cell_type": "code",
   "execution_count": 3,
   "id": "38e3ee4b",
   "metadata": {},
   "outputs": [
    {
     "data": {
      "text/plain": [
       "((3866, 8), (430, 8))"
      ]
     },
     "execution_count": 3,
     "metadata": {},
     "output_type": "execute_result"
    }
   ],
   "source": [
    "data = pd.read_csv('datasets/GoogleStockPrices.csv')\n",
    "data = data.dropna()\n",
    "train, test = train_test_split(data, test_size=0.1, shuffle=False)\n",
    "train.shape, test.shape"
   ]
  },
  {
   "cell_type": "code",
   "execution_count": 4,
   "id": "eb1f2817",
   "metadata": {},
   "outputs": [
    {
     "name": "stdout",
     "output_type": "stream",
     "text": [
      "<class 'pandas.core.frame.DataFrame'>\n",
      "RangeIndex: 4296 entries, 0 to 4295\n",
      "Data columns (total 8 columns):\n",
      " #   Column        Non-Null Count  Dtype  \n",
      "---  ------        --------------  -----  \n",
      " 0   Date          4296 non-null   object \n",
      " 1   Open          4296 non-null   float64\n",
      " 2   High          4296 non-null   float64\n",
      " 3   Low           4296 non-null   float64\n",
      " 4   Close         4296 non-null   float64\n",
      " 5   Volume        4296 non-null   int64  \n",
      " 6   Dividends     4296 non-null   int64  \n",
      " 7   Stock Splits  4296 non-null   float64\n",
      "dtypes: float64(5), int64(2), object(1)\n",
      "memory usage: 268.6+ KB\n"
     ]
    }
   ],
   "source": [
    "data.info()"
   ]
  },
  {
   "cell_type": "code",
   "execution_count": 5,
   "id": "14b74014",
   "metadata": {},
   "outputs": [
    {
     "data": {
      "text/plain": [
       "(3866, 1)"
      ]
     },
     "execution_count": 5,
     "metadata": {},
     "output_type": "execute_result"
    }
   ],
   "source": [
    "trainData = train.iloc[:,4:5].values\n",
    "sc = MinMaxScaler(feature_range=(0,1))\n",
    "trainData = sc.fit_transform(trainData)\n",
    "trainData.shape"
   ]
  },
  {
   "cell_type": "code",
   "execution_count": 6,
   "id": "4743a301",
   "metadata": {},
   "outputs": [],
   "source": [
    "X_train = []\n",
    "y_train = []\n",
    "\n",
    "for i in range (60,1149): #60 : timestep // 1149 : length of the data\n",
    "    X_train.append(trainData[i-60:i,0]) \n",
    "    y_train.append(trainData[i,0])\n",
    "\n",
    "X_train,y_train = np.array(X_train),np.array(y_train)"
   ]
  },
  {
   "cell_type": "code",
   "execution_count": 7,
   "id": "6d4aaf6b",
   "metadata": {},
   "outputs": [
    {
     "data": {
      "text/plain": [
       "(1089, 60, 1)"
      ]
     },
     "execution_count": 7,
     "metadata": {},
     "output_type": "execute_result"
    }
   ],
   "source": [
    "X_train = np.reshape(X_train,(X_train.shape[0],X_train.shape[1],1)) #adding the batch_size axis\n",
    "X_train.shape"
   ]
  },
  {
   "cell_type": "code",
   "execution_count": 8,
   "id": "f9e4ce89",
   "metadata": {},
   "outputs": [],
   "source": [
    "model = Sequential()\n",
    "\n",
    "model.add(LSTM(units=100, return_sequences = True, input_shape =(X_train.shape[1],1)))\n",
    "model.add(Dropout(0.2))\n",
    "\n",
    "model.add(LSTM(units=100, return_sequences = True))\n",
    "model.add(Dropout(0.2))\n",
    "\n",
    "model.add(LSTM(units=100, return_sequences = True))\n",
    "model.add(Dropout(0.2))\n",
    "\n",
    "model.add(LSTM(units=100, return_sequences = False))\n",
    "model.add(Dropout(0.2))\n",
    "\n",
    "model.add(Dense(units =1))\n",
    "model.compile(optimizer='adam',loss=\"mean_squared_error\")"
   ]
  },
  {
   "cell_type": "code",
   "execution_count": 9,
   "id": "1aa79c6b",
   "metadata": {},
   "outputs": [
    {
     "name": "stdout",
     "output_type": "stream",
     "text": [
      "Epoch 1/20\n",
      "35/35 - 9s - loss: 0.0015 - 9s/epoch - 254ms/step\n",
      "Epoch 2/20\n",
      "35/35 - 4s - loss: 4.5855e-04 - 4s/epoch - 122ms/step\n",
      "Epoch 3/20\n",
      "35/35 - 4s - loss: 2.3175e-04 - 4s/epoch - 121ms/step\n",
      "Epoch 4/20\n",
      "35/35 - 4s - loss: 2.4580e-04 - 4s/epoch - 121ms/step\n",
      "Epoch 5/20\n",
      "35/35 - 4s - loss: 2.0131e-04 - 4s/epoch - 123ms/step\n",
      "Epoch 6/20\n",
      "35/35 - 4s - loss: 2.7362e-04 - 4s/epoch - 121ms/step\n",
      "Epoch 7/20\n",
      "35/35 - 4s - loss: 1.8408e-04 - 4s/epoch - 122ms/step\n",
      "Epoch 8/20\n",
      "35/35 - 4s - loss: 1.9787e-04 - 4s/epoch - 124ms/step\n",
      "Epoch 9/20\n",
      "35/35 - 4s - loss: 1.8478e-04 - 4s/epoch - 123ms/step\n",
      "Epoch 10/20\n",
      "35/35 - 4s - loss: 1.6166e-04 - 4s/epoch - 128ms/step\n",
      "Epoch 11/20\n",
      "35/35 - 5s - loss: 1.7275e-04 - 5s/epoch - 137ms/step\n",
      "Epoch 12/20\n",
      "35/35 - 5s - loss: 1.5958e-04 - 5s/epoch - 131ms/step\n",
      "Epoch 13/20\n",
      "35/35 - 4s - loss: 1.7382e-04 - 4s/epoch - 123ms/step\n",
      "Epoch 14/20\n",
      "35/35 - 4s - loss: 1.4326e-04 - 4s/epoch - 126ms/step\n",
      "Epoch 15/20\n",
      "35/35 - 4s - loss: 1.5265e-04 - 4s/epoch - 127ms/step\n",
      "Epoch 16/20\n",
      "35/35 - 4s - loss: 2.1043e-04 - 4s/epoch - 123ms/step\n",
      "Epoch 17/20\n",
      "35/35 - 4s - loss: 1.5166e-04 - 4s/epoch - 127ms/step\n",
      "Epoch 18/20\n",
      "35/35 - 5s - loss: 1.4413e-04 - 5s/epoch - 134ms/step\n",
      "Epoch 19/20\n",
      "35/35 - 4s - loss: 1.3638e-04 - 4s/epoch - 124ms/step\n",
      "Epoch 20/20\n",
      "35/35 - 4s - loss: 1.1490e-04 - 4s/epoch - 123ms/step\n"
     ]
    }
   ],
   "source": [
    "hist = model.fit(X_train, y_train, epochs = 20, batch_size = 32, verbose=2)"
   ]
  },
  {
   "cell_type": "code",
   "execution_count": 10,
   "id": "7ffa38ff",
   "metadata": {},
   "outputs": [
    {
     "data": {
      "image/png": "[encoded data removed]",
      "text/plain": [
       "<Figure size 640x480 with 1 Axes>"
      ]
     },
     "metadata": {},
     "output_type": "display_data"
    }
   ],
   "source": [
    "plt.plot(hist.history['loss'])\n",
    "plt.title('Training model loss')\n",
    "plt.ylabel('loss')\n",
    "plt.xlabel('epoch')\n",
    "plt.legend(['train'], loc='upper right')\n",
    "plt.show()"
   ]
  },
  {
   "cell_type": "code",
   "execution_count": 11,
   "id": "c84520b4",
   "metadata": {},
   "outputs": [
    {
     "data": {
      "text/plain": [
       "(370, 60, 1)"
      ]
     },
     "execution_count": 11,
     "metadata": {},
     "output_type": "execute_result"
    }
   ],
   "source": [
    "testData = test\n",
    "testData = testData.iloc[:,4:5]\n",
    "y_test = testData.iloc[60:,0:].values \n",
    "#input array for the model\n",
    "inputClosing = testData.iloc[:,0:].values \n",
    "inputClosing_scaled = sc.transform(inputClosing)\n",
    "inputClosing_scaled.shape\n",
    "X_test = []\n",
    "length = len(testData)\n",
    "timestep = 60\n",
    "for i in range(timestep,length):  \n",
    "    X_test.append(inputClosing_scaled[i-timestep:i,0])\n",
    "X_test = np.array(X_test)\n",
    "X_test = np.reshape(X_test,(X_test.shape[0],X_test.shape[1],1))\n",
    "X_test.shape"
   ]
  },
  {
   "cell_type": "code",
   "execution_count": 12,
   "id": "516c79c6",
   "metadata": {},
   "outputs": [
    {
     "name": "stdout",
     "output_type": "stream",
     "text": [
      "12/12 [==============================] - 2s 40ms/step\n"
     ]
    },
    {
     "data": {
      "text/plain": [
       "(370, 1)"
      ]
     },
     "execution_count": 12,
     "metadata": {},
     "output_type": "execute_result"
    }
   ],
   "source": [
    "y_pred = model.predict(X_test)\n",
    "y_pred.shape"
   ]
  },
  {
   "cell_type": "code",
   "execution_count": 13,
   "id": "2be875e5",
   "metadata": {},
   "outputs": [
    {
     "data": {
      "text/plain": [
       "array([[ 965.38806],\n",
       "       [ 956.52765],\n",
       "       [ 953.3308 ],\n",
       "       [ 955.2059 ],\n",
       "       [ 961.4591 ],\n",
       "       [ 971.3187 ],\n",
       "       [ 982.58325],\n",
       "       [ 993.42114],\n",
       "       [1002.1193 ],\n",
       "       [1009.37177],\n",
       "       [1016.195  ],\n",
       "       [1023.7016 ],\n",
       "       [1032.3707 ],\n",
       "       [1042.0988 ],\n",
       "       [1053.3447 ],\n",
       "       [1065.9441 ],\n",
       "       [1079.2134 ],\n",
       "       [1092.6028 ],\n",
       "       [1105.1323 ],\n",
       "       [1114.9862 ],\n",
       "       [1121.727  ],\n",
       "       [1125.7887 ],\n",
       "       [1127.9489 ],\n",
       "       [1128.8213 ],\n",
       "       [1128.1555 ],\n",
       "       [1127.7584 ],\n",
       "       [1129.269  ],\n",
       "       [1132.913  ],\n",
       "       [1138.2743 ],\n",
       "       [1145.0717 ],\n",
       "       [1152.7603 ],\n",
       "       [1161.0958 ],\n",
       "       [1169.9955 ],\n",
       "       [1179.5269 ],\n",
       "       [1188.9584 ],\n",
       "       [1196.9576 ],\n",
       "       [1202.6635 ],\n",
       "       [1206.0371 ],\n",
       "       [1207.6355 ],\n",
       "       [1207.9056 ],\n",
       "       [1207.8661 ],\n",
       "       [1208.2552 ],\n",
       "       [1209.5282 ],\n",
       "       [1211.9054 ],\n",
       "       [1215.2595 ],\n",
       "       [1219.1967 ],\n",
       "       [1223.5184 ],\n",
       "       [1228.0166 ],\n",
       "       [1232.5691 ],\n",
       "       [1236.9485 ],\n",
       "       [1240.4573 ],\n",
       "       [1243.0267 ],\n",
       "       [1244.9266 ],\n",
       "       [1246.5078 ],\n",
       "       [1248.2325 ],\n",
       "       [1249.2255 ],\n",
       "       [1248.8939 ],\n",
       "       [1247.1914 ],\n",
       "       [1244.8596 ],\n",
       "       [1242.7734 ],\n",
       "       [1241.2083 ],\n",
       "       [1240.0093 ],\n",
       "       [1239.4216 ],\n",
       "       [1239.8616 ],\n",
       "       [1240.9482 ],\n",
       "       [1242.3259 ],\n",
       "       [1242.2913 ],\n",
       "       [1240.26   ],\n",
       "       [1236.7324 ],\n",
       "       [1232.9612 ],\n",
       "       [1230.5349 ],\n",
       "       [1230.9766 ],\n",
       "       [1234.7222 ],\n",
       "       [1241.5886 ],\n",
       "       [1251.0647 ],\n",
       "       [1262.6001 ],\n",
       "       [1274.8636 ],\n",
       "       [1286.6509 ],\n",
       "       [1296.9396 ],\n",
       "       [1305.0339 ],\n",
       "       [1310.6656 ],\n",
       "       [1314.7345 ],\n",
       "       [1317.9862 ],\n",
       "       [1321.0312 ],\n",
       "       [1323.3024 ],\n",
       "       [1324.0575 ],\n",
       "       [1323.2828 ],\n",
       "       [1320.8422 ],\n",
       "       [1317.2161 ],\n",
       "       [1313.3008 ],\n",
       "       [1308.9758 ],\n",
       "       [1303.9971 ],\n",
       "       [1298.1759 ],\n",
       "       [1291.7275 ],\n",
       "       [1285.5507 ],\n",
       "       [1280.3583 ],\n",
       "       [1276.5536 ],\n",
       "       [1273.9637 ],\n",
       "       [1272.7544 ],\n",
       "       [1273.1406 ],\n",
       "       [1274.8827 ],\n",
       "       [1277.757  ],\n",
       "       [1282.139  ],\n",
       "       [1287.9314 ],\n",
       "       [1295.2577 ],\n",
       "       [1303.8821 ],\n",
       "       [1313.4093 ],\n",
       "       [1323.5955 ],\n",
       "       [1334.675  ],\n",
       "       [1346.2598 ],\n",
       "       [1357.8425 ],\n",
       "       [1368.6211 ],\n",
       "       [1378.3109 ],\n",
       "       [1387.8018 ],\n",
       "       [1396.162  ],\n",
       "       [1401.5472 ],\n",
       "       [1401.7891 ],\n",
       "       [1396.4138 ],\n",
       "       [1385.8314 ],\n",
       "       [1371.1295 ],\n",
       "       [1353.7915 ],\n",
       "       [1335.9664 ],\n",
       "       [1319.1863 ],\n",
       "       [1304.1028 ],\n",
       "       [1290.4333 ],\n",
       "       [1277.5631 ],\n",
       "       [1265.7598 ],\n",
       "       [1254.646  ],\n",
       "       [1244.2994 ],\n",
       "       [1235.325  ],\n",
       "       [1228.6599 ],\n",
       "       [1225.0343 ],\n",
       "       [1224.6309 ],\n",
       "       [1227.5159 ],\n",
       "       [1232.7063 ],\n",
       "       [1239.4907 ],\n",
       "       [1246.585  ],\n",
       "       [1253.0363 ],\n",
       "       [1258.6885 ],\n",
       "       [1264.0797 ],\n",
       "       [1270.589  ],\n",
       "       [1279.0366 ],\n",
       "       [1289.3427 ],\n",
       "       [1300.6526 ],\n",
       "       [1312.0837 ],\n",
       "       [1322.1178 ],\n",
       "       [1329.9684 ],\n",
       "       [1335.9618 ],\n",
       "       [1340.9722 ],\n",
       "       [1346.1194 ],\n",
       "       [1351.1538 ],\n",
       "       [1355.7657 ],\n",
       "       [1358.1067 ],\n",
       "       [1357.6925 ],\n",
       "       [1355.8185 ],\n",
       "       [1354.0311 ],\n",
       "       [1353.7687 ],\n",
       "       [1357.4718 ],\n",
       "       [1366.5836 ],\n",
       "       [1380.8953 ],\n",
       "       [1398.9825 ],\n",
       "       [1418.4037 ],\n",
       "       [1436.977  ],\n",
       "       [1452.9857 ],\n",
       "       [1465.8977 ],\n",
       "       [1475.7118 ],\n",
       "       [1482.4634 ],\n",
       "       [1486.011  ],\n",
       "       [1486.792  ],\n",
       "       [1485.0833 ],\n",
       "       [1481.1777 ],\n",
       "       [1476.1829 ],\n",
       "       [1471.164  ],\n",
       "       [1467.2715 ],\n",
       "       [1464.6216 ],\n",
       "       [1463.6764 ],\n",
       "       [1465.0852 ],\n",
       "       [1468.9263 ],\n",
       "       [1474.795  ],\n",
       "       [1481.8461 ],\n",
       "       [1489.0667 ],\n",
       "       [1495.0461 ],\n",
       "       [1498.6729 ],\n",
       "       [1499.6227 ],\n",
       "       [1497.7637 ],\n",
       "       [1493.5781 ],\n",
       "       [1487.7769 ],\n",
       "       [1480.8851 ],\n",
       "       [1473.2251 ],\n",
       "       [1465.3475 ],\n",
       "       [1457.5908 ],\n",
       "       [1450.4259 ],\n",
       "       [1444.3666 ],\n",
       "       [1440.4404 ],\n",
       "       [1438.9658 ],\n",
       "       [1439.3997 ],\n",
       "       [1441.2786 ],\n",
       "       [1443.6638 ],\n",
       "       [1446.0193 ],\n",
       "       [1447.7565 ],\n",
       "       [1449.427  ],\n",
       "       [1451.9795 ],\n",
       "       [1455.2388 ],\n",
       "       [1458.4039 ],\n",
       "       [1460.9362 ],\n",
       "       [1462.2797 ],\n",
       "       [1462.1442 ],\n",
       "       [1461.5403 ],\n",
       "       [1463.0448 ],\n",
       "       [1468.3649 ],\n",
       "       [1477.9639 ],\n",
       "       [1491.1404 ],\n",
       "       [1506.6912 ],\n",
       "       [1521.6278 ],\n",
       "       [1534.0599 ],\n",
       "       [1542.5864 ],\n",
       "       [1547.8058 ],\n",
       "       [1551.1677 ],\n",
       "       [1556.183  ],\n",
       "       [1564.9731 ],\n",
       "       [1578.4746 ],\n",
       "       [1595.9968 ],\n",
       "       [1615.7002 ],\n",
       "       [1635.6456 ],\n",
       "       [1654.1351 ],\n",
       "       [1670.011  ],\n",
       "       [1682.8492 ],\n",
       "       [1692.7032 ],\n",
       "       [1699.6083 ],\n",
       "       [1703.4868 ],\n",
       "       [1703.9694 ],\n",
       "       [1701.2208 ],\n",
       "       [1696.211  ],\n",
       "       [1688.9745 ],\n",
       "       [1679.8713 ],\n",
       "       [1670.3164 ],\n",
       "       [1661.5477 ],\n",
       "       [1653.5702 ],\n",
       "       [1646.5951 ],\n",
       "       [1641.8075 ],\n",
       "       [1638.5426 ],\n",
       "       [1636.5027 ],\n",
       "       [1635.3767 ],\n",
       "       [1635.9355 ],\n",
       "       [1637.8442 ],\n",
       "       [1640.5953 ],\n",
       "       [1644.1378 ],\n",
       "       [1648.3247 ],\n",
       "       [1651.929  ],\n",
       "       [1654.085  ],\n",
       "       [1654.4939 ],\n",
       "       [1653.4537 ],\n",
       "       [1651.3265 ],\n",
       "       [1648.5332 ],\n",
       "       [1645.3602 ],\n",
       "       [1642.4072 ],\n",
       "       [1640.1451 ],\n",
       "       [1639.0688 ],\n",
       "       [1640.434  ],\n",
       "       [1646.2263 ],\n",
       "       [1656.9587 ],\n",
       "       [1672.2802 ],\n",
       "       [1691.0203 ],\n",
       "       [1711.7388 ],\n",
       "       [1732.364  ],\n",
       "       [1751.2102 ],\n",
       "       [1766.9033 ],\n",
       "       [1779.3403 ],\n",
       "       [1788.7363 ],\n",
       "       [1795.5343 ],\n",
       "       [1800.0132 ],\n",
       "       [1802.4509 ],\n",
       "       [1802.7825 ],\n",
       "       [1801.8285 ],\n",
       "       [1800.5212 ],\n",
       "       [1799.2253 ],\n",
       "       [1799.0834 ],\n",
       "       [1801.2389 ],\n",
       "       [1805.46   ],\n",
       "       [1810.8558 ],\n",
       "       [1815.9342 ],\n",
       "       [1819.7124 ],\n",
       "       [1822.0724 ],\n",
       "       [1823.4287 ],\n",
       "       [1823.3436 ],\n",
       "       [1821.2732 ],\n",
       "       [1816.0961 ],\n",
       "       [1807.9364 ],\n",
       "       [1798.3405 ],\n",
       "       [1789.0658 ],\n",
       "       [1781.0271 ],\n",
       "       [1774.808  ],\n",
       "       [1771.1417 ],\n",
       "       [1770.0735 ],\n",
       "       [1772.2336 ],\n",
       "       [1777.6708 ],\n",
       "       [1786.0612 ],\n",
       "       [1796.3152 ],\n",
       "       [1807.092  ],\n",
       "       [1817.5765 ],\n",
       "       [1827.0046 ],\n",
       "       [1834.518  ],\n",
       "       [1840.3179 ],\n",
       "       [1844.892  ],\n",
       "       [1848.581  ],\n",
       "       [1851.718  ],\n",
       "       [1854.8644 ],\n",
       "       [1858.2305 ],\n",
       "       [1862.0338 ],\n",
       "       [1865.943  ],\n",
       "       [1869.3672 ],\n",
       "       [1872.1434 ],\n",
       "       [1873.7745 ],\n",
       "       [1874.5006 ],\n",
       "       [1874.8098 ],\n",
       "       [1875.0283 ],\n",
       "       [1875.4349 ],\n",
       "       [1876.1439 ],\n",
       "       [1877.1405 ],\n",
       "       [1878.2491 ],\n",
       "       [1879.2393 ],\n",
       "       [1880.0479 ],\n",
       "       [1881.4637 ],\n",
       "       [1884.2501 ],\n",
       "       [1888.716  ],\n",
       "       [1894.2468 ],\n",
       "       [1900.1829 ],\n",
       "       [1906.3158 ],\n",
       "       [1912.5194 ],\n",
       "       [1918.8334 ],\n",
       "       [1924.799  ],\n",
       "       [1929.9572 ],\n",
       "       [1933.3329 ],\n",
       "       [1934.852  ],\n",
       "       [1935.1537 ],\n",
       "       [1935.1282 ],\n",
       "       [1936.6589 ],\n",
       "       [1941.0519 ],\n",
       "       [1947.9431 ],\n",
       "       [1957.4849 ],\n",
       "       [1969.1304 ],\n",
       "       [1981.6215 ],\n",
       "       [1993.7218 ],\n",
       "       [2004.6533 ],\n",
       "       [2013.78   ],\n",
       "       [2021.0631 ],\n",
       "       [2026.4884 ],\n",
       "       [2030.4642 ],\n",
       "       [2033.3375 ],\n",
       "       [2035.2284 ],\n",
       "       [2036.4694 ],\n",
       "       [2037.454  ],\n",
       "       [2038.5692 ],\n",
       "       [2039.5571 ],\n",
       "       [2039.8365 ],\n",
       "       [2039.1321 ],\n",
       "       [2037.9023 ],\n",
       "       [2037.2997 ],\n",
       "       [2038.3652 ],\n",
       "       [2041.6757 ],\n",
       "       [2046.9572 ],\n",
       "       [2054.1804 ],\n",
       "       [2063.056  ],\n",
       "       [2072.9783 ],\n",
       "       [2083.297  ],\n",
       "       [2092.8406 ],\n",
       "       [2100.839  ],\n",
       "       [2107.028  ],\n",
       "       [2111.2673 ],\n",
       "       [2113.6099 ]], dtype=float32)"
      ]
     },
     "execution_count": 13,
     "metadata": {},
     "output_type": "execute_result"
    }
   ],
   "source": [
    "predicted_price = sc.inverse_transform(y_pred)\n",
    "predicted_price"
   ]
  },
  {
   "cell_type": "code",
   "execution_count": 14,
   "id": "f296a7bf",
   "metadata": {
    "scrolled": false
   },
   "outputs": [
    {
     "data": {
      "image/png": "[encoded data removed]",
      "text/plain": [
       "<Figure size 640x480 with 1 Axes>"
      ]
     },
     "metadata": {},
     "output_type": "display_data"
    }
   ],
   "source": [
    "plt.plot(y_test, color = 'red', label = 'Actual Stock Price')\n",
    "plt.plot(predicted_price, color = 'green', label = 'Predicted Stock Price')\n",
    "plt.title('Google stock price prediction')\n",
    "plt.xlabel('Time')\n",
    "plt.ylabel('Stock Price')\n",
    "plt.legend()\n",
    "plt.show()"
   ]
  }
 ],
 "metadata": {
  "kernelspec": {
   "display_name": "Python 3 (ipykernel)",
   "language": "python",
   "name": "python3"
  },
  "language_info": {
   "codemirror_mode": {
    "name": "ipython",
    "version": 3
   },
   "file_extension": ".py",
   "mimetype": "text/x-python",
   "name": "python",
   "nbconvert_exporter": "python",
   "pygments_lexer": "ipython3",
   "version": "3.10.6"
  }
 },
 "nbformat": 4,
 "nbformat_minor": 5
}
