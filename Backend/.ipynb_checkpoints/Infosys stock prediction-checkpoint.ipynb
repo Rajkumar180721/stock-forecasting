{
 "cells": [
  {
   "cell_type": "code",
   "execution_count": 1,
   "id": "f635d13d",
   "metadata": {},
   "outputs": [],
   "source": [
    "import os\n",
    "os.environ['TF_CPP_MIN_LOG_LEVEL'] = '2'"
   ]
  },
  {
   "cell_type": "code",
   "execution_count": 2,
   "id": "33ec4786",
   "metadata": {},
   "outputs": [
    {
     "name": "stderr",
     "output_type": "stream",
     "text": [
      "2022-11-26 14:33:21.250448: E tensorflow/stream_executor/cuda/cuda_blas.cc:2981] Unable to register cuBLAS factory: Attempting to register factory for plugin cuBLAS when one has already been registered\n"
     ]
    }
   ],
   "source": [
    "import numpy as np \n",
    "import pandas as pd \n",
    "import matplotlib.pyplot as plt \n",
    "from sklearn.preprocessing import MinMaxScaler\n",
    "from sklearn.model_selection import train_test_split\n",
    "from keras.models import Sequential\n",
    "from keras.layers import Dense,LSTM,Dropout\n",
    "from keras.metrics import SparseCategoricalAccuracy"
   ]
  },
  {
   "cell_type": "code",
   "execution_count": 3,
   "id": "38e3ee4b",
   "metadata": {},
   "outputs": [
    {
     "data": {
      "text/plain": [
       "((1551, 7), (173, 7))"
      ]
     },
     "execution_count": 3,
     "metadata": {},
     "output_type": "execute_result"
    }
   ],
   "source": [
    "data = pd.read_csv('datasets/INFY.csv')\n",
    "data = data.dropna()\n",
    "train, test = train_test_split(data, test_size=0.1, shuffle=False)\n",
    "train.shape, test.shape"
   ]
  },
  {
   "cell_type": "code",
   "execution_count": 4,
   "id": "eb1f2817",
   "metadata": {
    "collapsed": true
   },
   "outputs": [
    {
     "name": "stdout",
     "output_type": "stream",
     "text": [
      "<class 'pandas.core.frame.DataFrame'>\n",
      "RangeIndex: 1724 entries, 0 to 1723\n",
      "Data columns (total 7 columns):\n",
      " #   Column     Non-Null Count  Dtype  \n",
      "---  ------     --------------  -----  \n",
      " 0   Date       1724 non-null   object \n",
      " 1   Open       1724 non-null   float64\n",
      " 2   High       1724 non-null   float64\n",
      " 3   Low        1724 non-null   float64\n",
      " 4   Close      1724 non-null   float64\n",
      " 5   Adj Close  1724 non-null   float64\n",
      " 6   Volume     1724 non-null   int64  \n",
      "dtypes: float64(5), int64(1), object(1)\n",
      "memory usage: 94.4+ KB\n"
     ]
    }
   ],
   "source": [
    "data.info()"
   ]
  },
  {
   "cell_type": "code",
   "execution_count": 4,
   "id": "14b74014",
   "metadata": {},
   "outputs": [
    {
     "data": {
      "text/plain": [
       "1551"
      ]
     },
     "execution_count": 4,
     "metadata": {},
     "output_type": "execute_result"
    }
   ],
   "source": [
    "trainData = train.iloc[:,4:5].values\n",
    "sc = MinMaxScaler(feature_range=(0,1))\n",
    "trainData = sc.fit_transform(trainData)\n",
    "length, _ = trainData.shape\n",
    "length"
   ]
  },
  {
   "cell_type": "code",
   "execution_count": 21,
   "id": "4743a301",
   "metadata": {},
   "outputs": [
    {
     "data": {
      "text/plain": [
       "(113, 60)"
      ]
     },
     "execution_count": 21,
     "metadata": {},
     "output_type": "execute_result"
    }
   ],
   "source": [
    "X_train = []\n",
    "y_train = []\n",
    "\n",
    "for i in range (60,length): #60 : timestep // 1149 : length of the data\n",
    "    X_train.append(trainData[i-60:i,0]) \n",
    "    y_train.append(trainData[i,0])\n",
    "\n",
    "X_train,y_train = np.array(X_train),np.array(y_train)\n",
    "X_train.shape"
   ]
  },
  {
   "cell_type": "code",
   "execution_count": 6,
   "id": "6d4aaf6b",
   "metadata": {},
   "outputs": [
    {
     "data": {
      "text/plain": [
       "(1491, 60, 1)"
      ]
     },
     "execution_count": 6,
     "metadata": {},
     "output_type": "execute_result"
    }
   ],
   "source": [
    "X_train = np.reshape(X_train,(X_train.shape[0],X_train.shape[1],1)) #adding the batch_size axis\n",
    "X_train.shape"
   ]
  },
  {
   "cell_type": "code",
   "execution_count": 7,
   "id": "f9e4ce89",
   "metadata": {},
   "outputs": [],
   "source": [
    "model = Sequential()\n",
    "\n",
    "model.add(LSTM(units=100, return_sequences = True, input_shape =(X_train.shape[1],1)))\n",
    "model.add(Dropout(0.2))\n",
    "\n",
    "model.add(LSTM(units=100, return_sequences = True))\n",
    "model.add(Dropout(0.2))\n",
    "\n",
    "model.add(LSTM(units=100, return_sequences = True))\n",
    "model.add(Dropout(0.2))\n",
    "\n",
    "model.add(LSTM(units=100, return_sequences = False))\n",
    "model.add(Dropout(0.2))\n",
    "\n",
    "model.add(Dense(units =1))\n",
    "model.compile(optimizer='adam',loss=\"mean_squared_error\", metrics=[SparseCategoricalAccuracy()])\n",
    "# model.compile(\n",
    "#     optimizer=keras.optimizers.RMSprop(learning_rate=1e-3),\n",
    "#     loss=keras.losses.SparseCategoricalCrossentropy(),\n",
    "#     metrics=[keras.metrics.SparseCategoricalAccuracy()],\n",
    "# )"
   ]
  },
  {
   "cell_type": "code",
   "execution_count": 16,
   "id": "1aa79c6b",
   "metadata": {},
   "outputs": [
    {
     "name": "stdout",
     "output_type": "stream",
     "text": [
      "Epoch 1/20\n",
      "47/47 [==============================] - 5s 113ms/step - loss: 0.0011 - sparse_categorical_accuracy: 6.7069e-04\n",
      "Epoch 2/20\n",
      "47/47 [==============================] - 6s 117ms/step - loss: 0.0014 - sparse_categorical_accuracy: 6.7069e-04\n",
      "Epoch 3/20\n",
      "47/47 [==============================] - 6s 119ms/step - loss: 0.0011 - sparse_categorical_accuracy: 6.7069e-04\n",
      "Epoch 4/20\n",
      "47/47 [==============================] - 6s 128ms/step - loss: 0.0010 - sparse_categorical_accuracy: 6.7069e-04\n",
      "Epoch 5/20\n",
      "47/47 [==============================] - 6s 127ms/step - loss: 0.0013 - sparse_categorical_accuracy: 6.7069e-04\n",
      "Epoch 6/20\n",
      "47/47 [==============================] - 6s 122ms/step - loss: 0.0015 - sparse_categorical_accuracy: 6.7069e-04\n",
      "Epoch 7/20\n",
      "47/47 [==============================] - 6s 127ms/step - loss: 0.0013 - sparse_categorical_accuracy: 6.7069e-04\n",
      "Epoch 8/20\n",
      "47/47 [==============================] - 6s 132ms/step - loss: 0.0011 - sparse_categorical_accuracy: 6.7069e-04\n",
      "Epoch 9/20\n",
      "47/47 [==============================] - 6s 131ms/step - loss: 0.0012 - sparse_categorical_accuracy: 6.7069e-04\n",
      "Epoch 10/20\n",
      "47/47 [==============================] - 5s 116ms/step - loss: 9.2285e-04 - sparse_categorical_accuracy: 6.7069e-04\n",
      "Epoch 11/20\n",
      "47/47 [==============================] - 7s 139ms/step - loss: 9.9228e-04 - sparse_categorical_accuracy: 6.7069e-04\n",
      "Epoch 12/20\n",
      "47/47 [==============================] - 7s 150ms/step - loss: 9.1440e-04 - sparse_categorical_accuracy: 6.7069e-04\n",
      "Epoch 13/20\n",
      "47/47 [==============================] - 6s 134ms/step - loss: 0.0010 - sparse_categorical_accuracy: 6.7069e-04\n",
      "Epoch 14/20\n",
      "47/47 [==============================] - 6s 131ms/step - loss: 9.0189e-04 - sparse_categorical_accuracy: 6.7069e-04\n",
      "Epoch 15/20\n",
      "47/47 [==============================] - 6s 123ms/step - loss: 9.5218e-04 - sparse_categorical_accuracy: 6.7069e-04\n",
      "Epoch 16/20\n",
      "47/47 [==============================] - 6s 130ms/step - loss: 9.6474e-04 - sparse_categorical_accuracy: 6.7069e-04\n",
      "Epoch 17/20\n",
      "47/47 [==============================] - 6s 131ms/step - loss: 9.8221e-04 - sparse_categorical_accuracy: 6.7069e-04\n",
      "Epoch 18/20\n",
      "47/47 [==============================] - 6s 130ms/step - loss: 8.6967e-04 - sparse_categorical_accuracy: 6.7069e-04\n",
      "Epoch 19/20\n",
      "47/47 [==============================] - 6s 119ms/step - loss: 0.0011 - sparse_categorical_accuracy: 6.7069e-04\n",
      "Epoch 20/20\n",
      "47/47 [==============================] - 6s 134ms/step - loss: 8.9200e-04 - sparse_categorical_accuracy: 6.7069e-04\n"
     ]
    }
   ],
   "source": [
    "hist = model.fit(X_train, y_train, epochs = 20, batch_size = 32, verbose=1)"
   ]
  },
  {
   "cell_type": "code",
   "execution_count": 9,
   "id": "7ffa38ff",
   "metadata": {
    "scrolled": false
   },
   "outputs": [
    {
     "data": {
      "image/png": "[encoded data removed]",
      "text/plain": [
       "<Figure size 640x480 with 1 Axes>"
      ]
     },
     "metadata": {},
     "output_type": "display_data"
    }
   ],
   "source": [
    "plt.plot(hist.history['loss'])\n",
    "plt.title('Training model loss')\n",
    "plt.ylabel('loss')\n",
    "plt.xlabel('epoch')\n",
    "plt.legend(['train'], loc='upper right')\n",
    "plt.show()"
   ]
  },
  {
   "cell_type": "code",
   "execution_count": 36,
   "id": "25474108",
   "metadata": {
    "collapsed": true
   },
   "outputs": [
    {
     "data": {
      "text/plain": [
       "{'loss': [0.010667945258319378,\n",
       "  0.0021894522942602634,\n",
       "  0.002653783420100808,\n",
       "  0.0019936515018343925,\n",
       "  0.00206574029289186,\n",
       "  0.0021764999255537987,\n",
       "  0.0018228561384603381,\n",
       "  0.001583546632900834,\n",
       "  0.0016904370859265327,\n",
       "  0.0016449035611003637,\n",
       "  0.0015629660338163376,\n",
       "  0.0017423317767679691,\n",
       "  0.001649318146519363,\n",
       "  0.0012245457619428635,\n",
       "  0.0013596609933301806,\n",
       "  0.0012208506232127547,\n",
       "  0.0012794588692486286,\n",
       "  0.0012063989415764809,\n",
       "  0.0013795556733384728,\n",
       "  0.001417672960087657],\n",
       " 'sparse_categorical_accuracy': [0.0006706907879561186,\n",
       "  0.0006706907879561186,\n",
       "  0.0006706907879561186,\n",
       "  0.0006706907879561186,\n",
       "  0.0006706907879561186,\n",
       "  0.0006706907879561186,\n",
       "  0.0006706907879561186,\n",
       "  0.0006706907879561186,\n",
       "  0.0006706907879561186,\n",
       "  0.0006706907879561186,\n",
       "  0.0006706907879561186,\n",
       "  0.0006706907879561186,\n",
       "  0.0006706907879561186,\n",
       "  0.0006706907879561186,\n",
       "  0.0006706907879561186,\n",
       "  0.0006706907879561186,\n",
       "  0.0006706907879561186,\n",
       "  0.0006706907879561186,\n",
       "  0.0006706907879561186,\n",
       "  0.0006706907879561186]}"
      ]
     },
     "execution_count": 36,
     "metadata": {},
     "output_type": "execute_result"
    }
   ],
   "source": [
    "hist.history"
   ]
  },
  {
   "cell_type": "code",
   "execution_count": 10,
   "id": "c84520b4",
   "metadata": {},
   "outputs": [
    {
     "data": {
      "text/plain": [
       "(113, 60, 1)"
      ]
     },
     "execution_count": 10,
     "metadata": {},
     "output_type": "execute_result"
    }
   ],
   "source": [
    "testData = test\n",
    "testData = testData.iloc[:,4:5]\n",
    "y_test = testData.iloc[60:,0:].values \n",
    "#input array for the model\n",
    "inputClosing = testData.iloc[:,0:].values \n",
    "inputClosing_scaled = sc.transform(inputClosing)\n",
    "inputClosing_scaled.shape\n",
    "X_test = []\n",
    "length = len(testData)\n",
    "timestep = 60\n",
    "for i in range(timestep,length):  \n",
    "    X_test.append(inputClosing_scaled[i-timestep:i,0])\n",
    "X_test = np.array(X_test)\n",
    "X_test = np.reshape(X_test,(X_test.shape[0],X_test.shape[1],1))\n",
    "X_test.shape"
   ]
  },
  {
   "cell_type": "code",
   "execution_count": 14,
   "id": "5eceaa8e",
   "metadata": {
    "collapsed": true
   },
   "outputs": [
    {
     "data": {
      "text/plain": [
       "array([[[0.81396545],\n",
       "        [0.81035815],\n",
       "        [0.80726609],\n",
       "        ...,\n",
       "        [0.62329291],\n",
       "        [0.5980417 ],\n",
       "        [0.58464308]],\n",
       "\n",
       "       [[0.81035815],\n",
       "        [0.80726609],\n",
       "        [0.81345011],\n",
       "        ...,\n",
       "        [0.5980417 ],\n",
       "        [0.58464308],\n",
       "        [0.60061841]],\n",
       "\n",
       "       [[0.80726609],\n",
       "        [0.81345011],\n",
       "        [0.85209994],\n",
       "        ...,\n",
       "        [0.58464308],\n",
       "        [0.60061841],\n",
       "        [0.62896158]],\n",
       "\n",
       "       ...,\n",
       "\n",
       "       [[0.68977067],\n",
       "        [0.70007723],\n",
       "        [0.68822464],\n",
       "        ...,\n",
       "        [0.61813968],\n",
       "        [0.61504762],\n",
       "        [0.62432359]],\n",
       "\n",
       "       [[0.70007723],\n",
       "        [0.68822464],\n",
       "        [0.68616336],\n",
       "        ...,\n",
       "        [0.61504762],\n",
       "        [0.62432359],\n",
       "        [0.59855704]],\n",
       "\n",
       "       [[0.68822464],\n",
       "        [0.68616336],\n",
       "        [0.68616336],\n",
       "        ...,\n",
       "        [0.62432359],\n",
       "        [0.59855704],\n",
       "        [0.58721979]]])"
      ]
     },
     "execution_count": 14,
     "metadata": {},
     "output_type": "execute_result"
    }
   ],
   "source": [
    "X_test"
   ]
  },
  {
   "cell_type": "code",
   "execution_count": 18,
   "id": "516c79c6",
   "metadata": {},
   "outputs": [
    {
     "name": "stdout",
     "output_type": "stream",
     "text": [
      "4/4 [==============================] - 0s 45ms/step\n"
     ]
    },
    {
     "data": {
      "text/plain": [
       "array([[19.585836],\n",
       "       [19.464304],\n",
       "       [19.416567],\n",
       "       [19.442831],\n",
       "       [19.522171],\n",
       "       [19.65444 ],\n",
       "       [19.79938 ],\n",
       "       [19.920761],\n",
       "       [19.99392 ],\n",
       "       [19.999487],\n",
       "       [19.928162],\n",
       "       [19.764868],\n",
       "       [19.509726],\n",
       "       [19.245663],\n",
       "       [19.047709],\n",
       "       [18.89848 ],\n",
       "       [18.787947],\n",
       "       [18.79009 ],\n",
       "       [18.874176],\n",
       "       [18.992079],\n",
       "       [19.116203],\n",
       "       [19.228361],\n",
       "       [19.289196],\n",
       "       [19.300322],\n",
       "       [19.270683],\n",
       "       [19.245623],\n",
       "       [19.23351 ],\n",
       "       [19.251963],\n",
       "       [19.3161  ],\n",
       "       [19.404182],\n",
       "       [19.441397],\n",
       "       [19.385845],\n",
       "       [19.249607],\n",
       "       [19.064219],\n",
       "       [18.898369],\n",
       "       [18.81597 ],\n",
       "       [18.847815],\n",
       "       [18.966043],\n",
       "       [19.153625],\n",
       "       [19.337717],\n",
       "       [19.441141],\n",
       "       [19.395857],\n",
       "       [19.285816],\n",
       "       [19.223722],\n",
       "       [19.278086],\n",
       "       [19.44145 ],\n",
       "       [19.642578],\n",
       "       [19.863708],\n",
       "       [20.078466],\n",
       "       [20.269617],\n",
       "       [20.416744],\n",
       "       [20.504704],\n",
       "       [20.554756],\n",
       "       [20.56934 ],\n",
       "       [20.556885],\n",
       "       [20.533373],\n",
       "       [20.517416],\n",
       "       [20.513887],\n",
       "       [20.513117],\n",
       "       [20.496595],\n",
       "       [20.44452 ],\n",
       "       [20.345758],\n",
       "       [20.221605],\n",
       "       [20.09874 ],\n",
       "       [19.95916 ],\n",
       "       [19.790773],\n",
       "       [19.616392],\n",
       "       [19.456642],\n",
       "       [19.339092],\n",
       "       [19.247389],\n",
       "       [19.161184],\n",
       "       [19.110922],\n",
       "       [19.113903],\n",
       "       [19.19891 ],\n",
       "       [19.3568  ],\n",
       "       [19.486055],\n",
       "       [19.49416 ],\n",
       "       [19.356543],\n",
       "       [19.093088],\n",
       "       [18.778982],\n",
       "       [18.464428],\n",
       "       [18.197016],\n",
       "       [17.980717],\n",
       "       [17.811615],\n",
       "       [17.694332],\n",
       "       [17.634062],\n",
       "       [17.645418],\n",
       "       [17.694098],\n",
       "       [17.747303],\n",
       "       [17.788128],\n",
       "       [17.85981 ],\n",
       "       [17.963161],\n",
       "       [18.059464],\n",
       "       [18.08579 ],\n",
       "       [18.07014 ],\n",
       "       [18.012224],\n",
       "       [17.924416],\n",
       "       [17.905653],\n",
       "       [17.969343],\n",
       "       [18.110113],\n",
       "       [18.279577],\n",
       "       [18.409834],\n",
       "       [18.475819],\n",
       "       [18.51753 ],\n",
       "       [18.57289 ],\n",
       "       [18.662794],\n",
       "       [18.780066],\n",
       "       [18.886356],\n",
       "       [18.97945 ],\n",
       "       [19.053276],\n",
       "       [19.119534],\n",
       "       [19.142235],\n",
       "       [19.097609]], dtype=float32)"
      ]
     },
     "execution_count": 18,
     "metadata": {},
     "output_type": "execute_result"
    }
   ],
   "source": [
    "y_pred = model.predict(X_test)\n",
    "y_pred.shape\n",
    "sc.inverse_transform(y_pred)"
   ]
  },
  {
   "cell_type": "code",
   "execution_count": 19,
   "id": "2be875e5",
   "metadata": {},
   "outputs": [
    {
     "data": {
      "text/plain": [
       "array([[19.585836],\n",
       "       [19.464304],\n",
       "       [19.416567],\n",
       "       [19.442831],\n",
       "       [19.522171],\n",
       "       [19.65444 ],\n",
       "       [19.79938 ],\n",
       "       [19.920761],\n",
       "       [19.99392 ],\n",
       "       [19.999487],\n",
       "       [19.928162],\n",
       "       [19.764868],\n",
       "       [19.509726],\n",
       "       [19.245663],\n",
       "       [19.047709],\n",
       "       [18.89848 ],\n",
       "       [18.787947],\n",
       "       [18.79009 ],\n",
       "       [18.874176],\n",
       "       [18.992079],\n",
       "       [19.116203],\n",
       "       [19.228361],\n",
       "       [19.289196],\n",
       "       [19.300322],\n",
       "       [19.270683],\n",
       "       [19.245623],\n",
       "       [19.23351 ],\n",
       "       [19.251963],\n",
       "       [19.3161  ],\n",
       "       [19.404182],\n",
       "       [19.441397],\n",
       "       [19.385845],\n",
       "       [19.249607],\n",
       "       [19.064219],\n",
       "       [18.898369],\n",
       "       [18.81597 ],\n",
       "       [18.847815],\n",
       "       [18.966043],\n",
       "       [19.153625],\n",
       "       [19.337717],\n",
       "       [19.441141],\n",
       "       [19.395857],\n",
       "       [19.285816],\n",
       "       [19.223722],\n",
       "       [19.278086],\n",
       "       [19.44145 ],\n",
       "       [19.642578],\n",
       "       [19.863708],\n",
       "       [20.078466],\n",
       "       [20.269617],\n",
       "       [20.416744],\n",
       "       [20.504704],\n",
       "       [20.554756],\n",
       "       [20.56934 ],\n",
       "       [20.556885],\n",
       "       [20.533373],\n",
       "       [20.517416],\n",
       "       [20.513887],\n",
       "       [20.513117],\n",
       "       [20.496595],\n",
       "       [20.44452 ],\n",
       "       [20.345758],\n",
       "       [20.221605],\n",
       "       [20.09874 ],\n",
       "       [19.95916 ],\n",
       "       [19.790773],\n",
       "       [19.616392],\n",
       "       [19.456642],\n",
       "       [19.339092],\n",
       "       [19.247389],\n",
       "       [19.161184],\n",
       "       [19.110922],\n",
       "       [19.113903],\n",
       "       [19.19891 ],\n",
       "       [19.3568  ],\n",
       "       [19.486055],\n",
       "       [19.49416 ],\n",
       "       [19.356543],\n",
       "       [19.093088],\n",
       "       [18.778982],\n",
       "       [18.464428],\n",
       "       [18.197016],\n",
       "       [17.980717],\n",
       "       [17.811615],\n",
       "       [17.694332],\n",
       "       [17.634062],\n",
       "       [17.645418],\n",
       "       [17.694098],\n",
       "       [17.747303],\n",
       "       [17.788128],\n",
       "       [17.85981 ],\n",
       "       [17.963161],\n",
       "       [18.059464],\n",
       "       [18.08579 ],\n",
       "       [18.07014 ],\n",
       "       [18.012224],\n",
       "       [17.924416],\n",
       "       [17.905653],\n",
       "       [17.969343],\n",
       "       [18.110113],\n",
       "       [18.279577],\n",
       "       [18.409834],\n",
       "       [18.475819],\n",
       "       [18.51753 ],\n",
       "       [18.57289 ],\n",
       "       [18.662794],\n",
       "       [18.780066],\n",
       "       [18.886356],\n",
       "       [18.97945 ],\n",
       "       [19.053276],\n",
       "       [19.119534],\n",
       "       [19.142235],\n",
       "       [19.097609]], dtype=float32)"
      ]
     },
     "execution_count": 19,
     "metadata": {},
     "output_type": "execute_result"
    }
   ],
   "source": [
    "predicted_price = sc.inverse_transform(y_pred)\n",
    "predicted_price"
   ]
  },
  {
   "cell_type": "code",
   "execution_count": 20,
   "id": "f296a7bf",
   "metadata": {
    "scrolled": false
   },
   "outputs": [
    {
     "data": {
      "image/png": "[encoded data removed]",
      "text/plain": [
       "<Figure size 640x480 with 1 Axes>"
      ]
     },
     "metadata": {},
     "output_type": "display_data"
    }
   ],
   "source": [
    "plt.plot(y_test, color = 'red', label = 'Actual Stock Price')\n",
    "plt.plot(predicted_price, color = 'green', label = 'Predicted Stock Price')\n",
    "plt.title('Infosys stock price prediction')\n",
    "plt.xlabel('Time')\n",
    "plt.ylabel('Stock Price')\n",
    "plt.legend()\n",
    "plt.show()"
   ]
  },
  {
   "cell_type": "code",
   "execution_count": 17,
   "id": "0e2f8b42",
   "metadata": {},
   "outputs": [],
   "source": [
    "model.save('infosys_model.hdf5')"
   ]
  },
  {
   "cell_type": "code",
   "execution_count": 18,
   "id": "75b44474",
   "metadata": {},
   "outputs": [],
   "source": [
    "import tensorflow as tf\n",
    "model = tf.keras.models.load_model('infosys_model.hdf5')"
   ]
  },
  {
   "cell_type": "code",
   "execution_count": 23,
   "id": "1dfc53f3",
   "metadata": {},
   "outputs": [
    {
     "data": {
      "text/plain": [
       "(1, 60, 1)"
      ]
     },
     "execution_count": 23,
     "metadata": {},
     "output_type": "execute_result"
    }
   ],
   "source": [
    "last60 = data['Close'][-60:].values\n",
    "last60 = last60.reshape((1, 60, 1))\n",
    "last60.shape"
   ]
  },
  {
   "cell_type": "code",
   "execution_count": 25,
   "id": "0f5a44e9",
   "metadata": {},
   "outputs": [
    {
     "name": "stdout",
     "output_type": "stream",
     "text": [
      "1/1 [==============================] - 0s 27ms/step\n",
      "[[0.]]\n"
     ]
    },
    {
     "data": {
      "text/plain": [
       "2.9016302"
      ]
     },
     "execution_count": 25,
     "metadata": {},
     "output_type": "execute_result"
    }
   ],
   "source": [
    "predicted = model.predict(last60)\n",
    "predicted = sc.inverse_transform(predicted)[0, 0]\n",
    "predicted"
   ]
  },
  {
   "cell_type": "code",
   "execution_count": 21,
   "id": "758dd3b1",
   "metadata": {},
   "outputs": [
    {
     "data": {
      "text/html": [
       "<div>\n",
       "<style scoped>\n",
       "    .dataframe tbody tr th:only-of-type {\n",
       "        vertical-align: middle;\n",
       "    }\n",
       "\n",
       "    .dataframe tbody tr th {\n",
       "        vertical-align: top;\n",
       "    }\n",
       "\n",
       "    .dataframe thead th {\n",
       "        text-align: right;\n",
       "    }\n",
       "</style>\n",
       "<table border=\"1\" class=\"dataframe\">\n",
       "  <thead>\n",
       "    <tr style=\"text-align: right;\">\n",
       "      <th></th>\n",
       "      <th>Date</th>\n",
       "      <th>Open</th>\n",
       "      <th>High</th>\n",
       "      <th>Low</th>\n",
       "      <th>Close</th>\n",
       "      <th>Adj Close</th>\n",
       "      <th>Volume</th>\n",
       "    </tr>\n",
       "  </thead>\n",
       "  <tbody>\n",
       "    <tr>\n",
       "      <th>1719</th>\n",
       "      <td>2022-10-31</td>\n",
       "      <td>18.660000</td>\n",
       "      <td>18.830000</td>\n",
       "      <td>18.610001</td>\n",
       "      <td>18.730000</td>\n",
       "      <td>18.730000</td>\n",
       "      <td>8585500</td>\n",
       "    </tr>\n",
       "    <tr>\n",
       "      <th>1720</th>\n",
       "      <td>2022-11-01</td>\n",
       "      <td>19.190001</td>\n",
       "      <td>19.219999</td>\n",
       "      <td>18.840000</td>\n",
       "      <td>18.910000</td>\n",
       "      <td>18.910000</td>\n",
       "      <td>5474700</td>\n",
       "    </tr>\n",
       "    <tr>\n",
       "      <th>1721</th>\n",
       "      <td>2022-11-02</td>\n",
       "      <td>18.709999</td>\n",
       "      <td>18.879999</td>\n",
       "      <td>18.410000</td>\n",
       "      <td>18.410000</td>\n",
       "      <td>18.410000</td>\n",
       "      <td>6370600</td>\n",
       "    </tr>\n",
       "    <tr>\n",
       "      <th>1722</th>\n",
       "      <td>2022-11-03</td>\n",
       "      <td>18.200001</td>\n",
       "      <td>18.270000</td>\n",
       "      <td>18.080000</td>\n",
       "      <td>18.190001</td>\n",
       "      <td>18.190001</td>\n",
       "      <td>11328700</td>\n",
       "    </tr>\n",
       "    <tr>\n",
       "      <th>1723</th>\n",
       "      <td>2022-11-04</td>\n",
       "      <td>18.270000</td>\n",
       "      <td>18.459999</td>\n",
       "      <td>18.100000</td>\n",
       "      <td>18.330000</td>\n",
       "      <td>18.330000</td>\n",
       "      <td>10899800</td>\n",
       "    </tr>\n",
       "  </tbody>\n",
       "</table>\n",
       "</div>"
      ],
      "text/plain": [
       "            Date       Open       High        Low      Close  Adj Close  \\\n",
       "1719  2022-10-31  18.660000  18.830000  18.610001  18.730000  18.730000   \n",
       "1720  2022-11-01  19.190001  19.219999  18.840000  18.910000  18.910000   \n",
       "1721  2022-11-02  18.709999  18.879999  18.410000  18.410000  18.410000   \n",
       "1722  2022-11-03  18.200001  18.270000  18.080000  18.190001  18.190001   \n",
       "1723  2022-11-04  18.270000  18.459999  18.100000  18.330000  18.330000   \n",
       "\n",
       "        Volume  \n",
       "1719   8585500  \n",
       "1720   5474700  \n",
       "1721   6370600  \n",
       "1722  11328700  \n",
       "1723  10899800  "
      ]
     },
     "execution_count": 21,
     "metadata": {},
     "output_type": "execute_result"
    }
   ],
   "source": [
    "data.tail()"
   ]
  }
 ],
 "metadata": {
  "kernelspec": {
   "display_name": "Python 3 (ipykernel)",
   "language": "python",
   "name": "python3"
  },
  "language_info": {
   "codemirror_mode": {
    "name": "ipython",
    "version": 3
   },
   "file_extension": ".py",
   "mimetype": "text/x-python",
   "name": "python",
   "nbconvert_exporter": "python",
   "pygments_lexer": "ipython3",
   "version": "3.10.6"
  }
 },
 "nbformat": 4,
 "nbformat_minor": 5
}
